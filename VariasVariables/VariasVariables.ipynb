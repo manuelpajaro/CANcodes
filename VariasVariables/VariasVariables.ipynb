{
 "cells": [
  {
   "cell_type": "markdown",
   "metadata": {},
   "source": [
    "<center> <h1>Cálculo e Análise Numérico.    &nbsp;&nbsp;&nbsp;&nbsp;     Grao en Intelixencia Artificial (Uvigo) \n",
    "    <br />\n",
    " \n",
    "\n",
    "# Derivación en varias variables"
   ]
  },
  {
   "cell_type": "code",
   "execution_count": 1,
   "metadata": {},
   "outputs": [],
   "source": [
    "import numpy as np\n",
    "import sympy as sp\n",
    "import matplotlib.pyplot as plt\n",
    "from matplotlib import cm\n",
    "\n",
    "# Gráficos separados en novas ventás\n",
    "%matplotlib qt\n",
    "\n",
    "# Gráficos incrustados neste documento\n",
    "%matplotlib inline\n"
   ]
  },
  {
   "cell_type": "markdown",
   "metadata": {},
   "source": [
    "## Gradiente dunha función"
   ]
  },
  {
   "cell_type": "code",
   "execution_count": 2,
   "metadata": {},
   "outputs": [
    {
     "name": "stdout",
     "output_type": "stream",
     "text": [
      "A función é:\n"
     ]
    },
    {
     "data": {
      "text/latex": [
       "$\\displaystyle \\left[\\begin{matrix}x y^{2} z^{3}\\end{matrix}\\right]$"
      ],
      "text/plain": [
       "Matrix([[x*y**2*z**3]])"
      ]
     },
     "metadata": {},
     "output_type": "display_data"
    },
    {
     "name": "stdout",
     "output_type": "stream",
     "text": [
      "O seu gradiente é\n"
     ]
    },
    {
     "data": {
      "text/latex": [
       "$\\displaystyle \\left[\\begin{matrix}y^{2} z^{3} & 2 x y z^{3} & 3 x y^{2} z^{2}\\end{matrix}\\right]$"
      ],
      "text/plain": [
       "Matrix([[y**2*z**3, 2*x*y*z**3, 3*x*y**2*z**2]])"
      ]
     },
     "metadata": {},
     "output_type": "display_data"
    },
    {
     "name": "stdout",
     "output_type": "stream",
     "text": [
      "Avaliado en (x,y,z)=(1,1,1) é:\n"
     ]
    },
    {
     "data": {
      "text/latex": [
       "$\\displaystyle \\left[\\begin{matrix}1 & 2 & 3\\end{matrix}\\right]$"
      ],
      "text/plain": [
       "Matrix([[1, 2, 3]])"
      ]
     },
     "metadata": {},
     "output_type": "display_data"
    },
    {
     "name": "stdout",
     "output_type": "stream",
     "text": [
      "A derivada direccional de f en (x,y,z)=(1,1,1) respecto a v=(-1,0,2) é:  5\n"
     ]
    }
   ],
   "source": [
    "x, y, z = sp.symbols('x y z', real=True)\n",
    "# Definimos a función\n",
    "f_xyz = sp.Matrix([x*y**2*z**3])\n",
    "# Calculamos o seu gradiente\n",
    "gradiente = f_xyz.jacobian([x,y,z])\n",
    "\n",
    "print(\"A función é:\")\n",
    "display(f_xyz)\n",
    "print(\"O seu gradiente é\")\n",
    "display(gradiente)\n",
    "print(\"Avaliado en (x,y,z)=(1,1,1) é:\")\n",
    "display(gradiente.subs({x:1,y:1,z:1}))\n",
    "\n",
    "# Calculamos a derivada direccional\n",
    "dfv = gradiente.subs({x:1,y:1,z:1})@np.array([-1,0,2]).transpose() # O comando @ realiza o produto de matrices\n",
    "print('A derivada direccional de f en (x,y,z)=(1,1,1) respecto a v=(-1,0,2) é: ',dfv[0])\n"
   ]
  },
  {
   "cell_type": "markdown",
   "metadata": {},
   "source": [
    "## Jacobiana dunha función"
   ]
  },
  {
   "cell_type": "code",
   "execution_count": 3,
   "metadata": {},
   "outputs": [
    {
     "name": "stdout",
     "output_type": "stream",
     "text": [
      "A función é:\n"
     ]
    },
    {
     "data": {
      "text/latex": [
       "$\\displaystyle \\left[\\begin{matrix}x y z\\\\z + \\sin{\\left(x y \\right)}\\end{matrix}\\right]$"
      ],
      "text/plain": [
       "Matrix([\n",
       "[       x*y*z],\n",
       "[z + sin(x*y)]])"
      ]
     },
     "metadata": {},
     "output_type": "display_data"
    },
    {
     "name": "stdout",
     "output_type": "stream",
     "text": [
      "O súa jacobiana é\n"
     ]
    },
    {
     "data": {
      "text/latex": [
       "$\\displaystyle \\left[\\begin{matrix}y z & x z & x y\\\\y \\cos{\\left(x y \\right)} & x \\cos{\\left(x y \\right)} & 1\\end{matrix}\\right]$"
      ],
      "text/plain": [
       "Matrix([\n",
       "[       y*z,        x*z, x*y],\n",
       "[y*cos(x*y), x*cos(x*y),   1]])"
      ]
     },
     "metadata": {},
     "output_type": "display_data"
    },
    {
     "name": "stdout",
     "output_type": "stream",
     "text": [
      "Avaliada en (x,y,z)=(0,1,2) é:\n"
     ]
    },
    {
     "data": {
      "text/latex": [
       "$\\displaystyle \\left[\\begin{matrix}2 & 0 & 0\\\\1 & 0 & 1\\end{matrix}\\right]$"
      ],
      "text/plain": [
       "Matrix([\n",
       "[2, 0, 0],\n",
       "[1, 0, 1]])"
      ]
     },
     "metadata": {},
     "output_type": "display_data"
    }
   ],
   "source": [
    "# Definimos a función\n",
    "f2_xyz = sp.Matrix([x*y*z, sp.sin(x*y ) + z])\n",
    "# Calculamos a súa jacobiana\n",
    "jacobiana = f2_xyz.jacobian([x,y,z])\n",
    "\n",
    "print(\"A función é:\")\n",
    "display(f2_xyz)\n",
    "print(\"O súa jacobiana é\")\n",
    "display(jacobiana)\n",
    "print(\"Avaliada en (x,y,z)=(0,1,2) é:\")\n",
    "display(jacobiana.subs({x:0,y:1,z:2}))\n"
   ]
  },
  {
   "cell_type": "markdown",
   "metadata": {},
   "source": [
    "## Hessiana dunha función"
   ]
  },
  {
   "cell_type": "code",
   "execution_count": 4,
   "metadata": {},
   "outputs": [
    {
     "name": "stdout",
     "output_type": "stream",
     "text": [
      "A función é:\n"
     ]
    },
    {
     "data": {
      "text/latex": [
       "$\\displaystyle \\left( \\left( x, \\  y\\right) \\mapsto x \\left(y + e^{y}\\right) \\right)$"
      ],
      "text/plain": [
       "Lambda((x, y), x*(y + exp(y)))"
      ]
     },
     "metadata": {},
     "output_type": "display_data"
    },
    {
     "name": "stdout",
     "output_type": "stream",
     "text": [
      "O súa hessiana é\n"
     ]
    },
    {
     "data": {
      "text/latex": [
       "$\\displaystyle \\left[\\begin{matrix}0 & e^{y} + 1\\\\e^{y} + 1 & x e^{y}\\end{matrix}\\right]$"
      ],
      "text/plain": [
       "Matrix([\n",
       "[         0, exp(y) + 1],\n",
       "[exp(y) + 1,   x*exp(y)]])"
      ]
     },
     "metadata": {},
     "output_type": "display_data"
    },
    {
     "name": "stdout",
     "output_type": "stream",
     "text": [
      "Avaliada en (x,y)=(0,1) é:\n"
     ]
    },
    {
     "data": {
      "text/latex": [
       "$\\displaystyle \\left[\\begin{matrix}0 & 1 + e\\\\1 + e & 0\\end{matrix}\\right]$"
      ],
      "text/plain": [
       "Matrix([\n",
       "[    0, 1 + E],\n",
       "[1 + E,     0]])"
      ]
     },
     "metadata": {},
     "output_type": "display_data"
    }
   ],
   "source": [
    "# Definimos a función\n",
    "f_xy = sp.Lambda((x,y), x*(y+sp.exp(y)))\n",
    "# Calculamos a súa hessiana\n",
    "hessiana = sp.hessian(f_xy(x,y), (x,y))\n",
    "\n",
    "print(\"A función é:\")\n",
    "display(f_xy)\n",
    "print(\"O súa hessiana é\")\n",
    "display(hessiana)\n",
    "print(\"Avaliada en (x,y)=(0,1) é:\")\n",
    "display(hessiana.subs({x:0,y:1}))\n"
   ]
  },
  {
   "cell_type": "code",
   "execution_count": null,
   "metadata": {},
   "outputs": [],
   "source": []
  }
 ],
 "metadata": {
  "celltoolbar": "Raw Cell Format",
  "kernelspec": {
   "display_name": "Python 3",
   "language": "python",
   "name": "python3"
  },
  "language_info": {
   "codemirror_mode": {
    "name": "ipython",
    "version": 3
   },
   "file_extension": ".py",
   "mimetype": "text/x-python",
   "name": "python",
   "nbconvert_exporter": "python",
   "pygments_lexer": "ipython3",
   "version": "3.8.5"
  }
 },
 "nbformat": 4,
 "nbformat_minor": 4
}
