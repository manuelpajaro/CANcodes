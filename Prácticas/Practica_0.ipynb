{
 "cells": [
  {
   "cell_type": "markdown",
   "metadata": {},
   "source": [
    "<center> <h1>Cálculo e Análise Numérico.    &nbsp;&nbsp;&nbsp;&nbsp;     Grao en Intelixencia Artificial (Uvigo) \n",
    "    <br />\n",
    "    Práctica 0 &nbsp;&nbsp;&nbsp;&nbsp;  (23, 24 e 26 de setembro de 2024)<center> <h1>"
   ]
  },
  {
   "cell_type": "markdown",
   "metadata": {},
   "source": [
    "# Introdución\n",
    "\n",
    "Con esta práctica pretendemos familiarizarnos coa contorna de Jupyter Notebook para traballar coa linguaxe de programación Python. Para isto, imos aprender a utilizar algúns comandos de tres módulos de Python que serán de utilidade para realizar os exercicios e as prácticas da materia de Cálculo e Análise Numérico. \n",
    "- Comezaremos con **SymPy**, que nos permitirá realizar cálculos simbólicos en Python. Permite traballar con expresións matemáticas como símbolos e fórmulas en lugar de números para poder calcular límites, derivadas ou integrais. Documentación deste módulo podemos atopala en https://docs.sympy.org/latest/index.html.  Para poder utilizar este módulo debemos cargalo do seguinte xeito: "
   ]
  },
  {
   "cell_type": "code",
   "execution_count": 1,
   "metadata": {},
   "outputs": [],
   "source": [
    "import sympy as sp"
   ]
  },
  {
   "cell_type": "markdown",
   "metadata": {},
   "source": [
    "- A continuación utilizaremos **NumPy**, que é un módulo fundamental para a computación numérica en Python. Ofrece funcionalidades para realizar operacións matriciais e cálculos numéricos eficientes. É esencial para a análise de datos e a resolución de problemas matemáticos e científicos. Documentación deste módulo podemos atopala en https://numpy.org/doc/.  Para poder utilizar este módulo debemos cargalo do seguinte xeito: "
   ]
  },
  {
   "cell_type": "code",
   "execution_count": 2,
   "metadata": {},
   "outputs": [],
   "source": [
    "import numpy as np"
   ]
  },
  {
   "cell_type": "markdown",
   "metadata": {},
   "source": [
    "- Finalmente, introducimos **Matplotlib**, que é un módulo que permite crear gráficos e visualizacións de datos de maneira sinxela en Python.   Para poder utilizar este módulo debemos cargalo. Documentación para este módulo podemos atopala en https://matplotlib.org/stable/index.html. Ademais, como o imos utilizar a través da interface `pyplot`, tamén será necesario importala do seguinte xeito: \n",
    " "
   ]
  },
  {
   "cell_type": "code",
   "execution_count": 3,
   "metadata": {},
   "outputs": [],
   "source": [
    "import matplotlib as mp\n",
    "import matplotlib.pyplot as plt"
   ]
  },
  {
   "cell_type": "markdown",
   "metadata": {},
   "source": [
    "# Módulo **SymPy**\n",
    "\n",
    "## Variables simbólicas\n",
    "Para traballar con variables simbólicas é preciso definilas primeiro, farémolo usando a función `sp.Symbol`:\n"
   ]
  },
  {
   "cell_type": "code",
   "execution_count": 4,
   "metadata": {},
   "outputs": [
    {
     "name": "stdout",
     "output_type": "stream",
     "text": [
      "3*x + 5*y\n"
     ]
    },
    {
     "data": {
      "text/latex": [
       "$\\displaystyle 3 x + 5 y$"
      ],
      "text/plain": [
       "3*x + 5*y"
      ]
     },
     "metadata": {},
     "output_type": "display_data"
    },
    {
     "name": "stdout",
     "output_type": "stream",
     "text": [
      "a**3 + b**2 + c**b\n"
     ]
    },
    {
     "data": {
      "text/latex": [
       "$\\displaystyle a^{3} + b^{2} + c^{b}$"
      ],
      "text/plain": [
       "a**3 + b**2 + c**b"
      ]
     },
     "metadata": {},
     "output_type": "display_data"
    }
   ],
   "source": [
    "x = sp.Symbol('x') # Define a variable simbólica x\n",
    "y = sp.Symbol('y') # Define a variable simbólica y\n",
    "f = 3*x + 5*y      # Define a expresión simbólica f\n",
    "print(f)           # Imprimimos a expresión simbólica\n",
    "display(f) # Imprimimos a expresión simbólica nun formato similar a como a escribimos en papel\n",
    "\n",
    "a, b, c = sp.symbols('a:c') # Define como simbólicas as variables a, b, c.\n",
    "expresion = a**3 + b**2 + c**b\n",
    "print(expresion)\n",
    "display(expresion)\n"
   ]
  },
  {
   "cell_type": "markdown",
   "metadata": {},
   "source": [
    "## Operacións\n",
    "Como acabamos de ver podemos realizar operacións coas variables simbólicas:\n",
    "- `+` para suma\n",
    "- `-` para resta\n",
    "- `*` para multiplicación\n",
    "- `/` para división\n",
    "- `**` para potenciación\n",
    "\n",
    "Estas operacións realízanse coa orde de prioridade usual, primeiro potencia, despois multiplicación ou división e finalmente suma ou resta. Para cambiar a orde debemos usar parénteses.\n",
    "\n",
    "Por claridade na implementación e nos cálculos, será habitual que o nome da variable simbólica e o nome do obxecto **SymPy** no que se almacena coincidan, pero isto non ten por que ser así:"
   ]
  },
  {
   "cell_type": "code",
   "execution_count": 5,
   "metadata": {},
   "outputs": [
    {
     "name": "stdout",
     "output_type": "stream",
     "text": [
      "x\n"
     ]
    },
    {
     "data": {
      "text/plain": [
       "'x'"
      ]
     },
     "execution_count": 5,
     "metadata": {},
     "output_type": "execute_result"
    }
   ],
   "source": [
    "a = sp.Symbol('x')\n",
    "print(a)\n",
    "a.name"
   ]
  },
  {
   "cell_type": "markdown",
   "metadata": {},
   "source": [
    "Debemos ter claro que as variables `x` ou `y`, definidas anteriormente, non son números. Tódalas variables simbólicas son obxetos da clase `sp.Symbol` e os seus atributos e métodos son completamente diferentes aos das variables numéricas ou dos vectores de **NumPy**. Podemos comprobar os métodos e atributos que teñen estes obxetos executando os seguintes comandos (que sirven para ver os métodos e atributos de calquera obxecto): "
   ]
  },
  {
   "cell_type": "code",
   "execution_count": 6,
   "metadata": {},
   "outputs": [
    {
     "name": "stdout",
     "output_type": "stream",
     "text": [
      "<class 'sympy.core.symbol.Symbol'>\n"
     ]
    }
   ],
   "source": [
    "print(type(x))\n",
    "dir(x)"
   ]
  },
  {
   "cell_type": "markdown",
   "metadata": {},
   "source": [
    "## Constantes enteiras e números racionais\n",
    "Con **SymPy** podemos definir constantes enteiras ou números racionais de forma simbólica, usando os comandos `sp.Integer` ou `sp.Rational`, respectivamente. Por exemplo, podemos definir a constante simbólica $1/3$. Se fixésemos o mesmo con números representados por defecto en Python, obteríamos resultados moi diferentes. Observa tamén, a diferenza que existe entre o tipo de dato asignado no espazo de traballo."
   ]
  },
  {
   "cell_type": "code",
   "execution_count": 7,
   "metadata": {},
   "outputs": [
    {
     "name": "stdout",
     "output_type": "stream",
     "text": [
      "a:  1/3\n",
      "b:  1/3\n",
      "c:  0.3333333333333333\n",
      "d:  0.3333333333333333\n",
      "<class 'sympy.core.numbers.Rational'>\n",
      "<class 'sympy.core.numbers.Rational'>\n",
      "<class 'float'>\n",
      "<class 'float'>\n"
     ]
    }
   ],
   "source": [
    "a = sp.Rational('1/3')\n",
    "b = sp.Integer('1')/sp.Integer('3')\n",
    "c = 1/3\n",
    "d = 1.0/3.0\n",
    "print('a: ',a) # Podemos imprimir literalmente o texto que vai entre ''\n",
    "print('b: ',b)\n",
    "print('c: ',c)\n",
    "print('d: ',d)\n",
    "print(type(a))\n",
    "print(type(b))\n",
    "print(type(c))\n",
    "print(type(d))\n",
    "\n"
   ]
  },
  {
   "cell_type": "markdown",
   "metadata": {},
   "source": [
    "### Exercicio.\n",
    "Podes probar a realizar distintas operacións con variables, constantes, ... na seguinte liña de código.\n",
    "\n",
    "Ten en conta que terás xa definidas as utilizadas nas anteriores liñas, sempre que as executases. Noutro caso deberás definir os obxectos que desexes usar.\n",
    "\n",
    "**Ollo!** Se utilizamos unha mesma variable para asignarlle distintos valores ao largo do código, esta vai ter o último valor asignado."
   ]
  },
  {
   "cell_type": "code",
   "execution_count": 8,
   "metadata": {},
   "outputs": [
    {
     "data": {
      "text/latex": [
       "$\\displaystyle 1$"
      ],
      "text/plain": [
       "1"
      ]
     },
     "execution_count": 8,
     "metadata": {},
     "output_type": "execute_result"
    }
   ],
   "source": [
    "2*a+b "
   ]
  },
  {
   "cell_type": "markdown",
   "metadata": {},
   "source": [
    "- Outra forma de manexar valores constantes con obxectos do módulo **SymPy** é usar a función `sp.S` que transforma os valores dados en obxectos do módulo **SymPy**, como se pode ver ao imprimir o tipo de dato con `type`.\n",
    "- Se precisamos obter o valor numérico dunha expresión simbólica, podemos usar a función `sp.N` ou ben, directamente, `float`:"
   ]
  },
  {
   "cell_type": "code",
   "execution_count": 9,
   "metadata": {},
   "outputs": [
    {
     "name": "stdout",
     "output_type": "stream",
     "text": [
      "Sen usar sp.S:\n",
      "a =  2 , tipo de dato:  <class 'int'>\n",
      "Usando sp.S:\n",
      "a =  2 , tipo de dato:  <class 'sympy.core.numbers.Integer'>\n",
      "b =  6 , tipo de dato:  <class 'sympy.core.numbers.Integer'>\n",
      "c =  1/3 , tipo de dato:  <class 'sympy.core.numbers.Rational'>\n",
      "d =  0.333333333333333 , tipo de dato:  <class 'sympy.core.numbers.Float'>\n",
      "e =  0.3333333333333333 , tipo de dato:  <class 'float'>\n",
      "e = 0.3333\n"
     ]
    }
   ],
   "source": [
    "print('Sen usar sp.S:')\n",
    "a = 2\n",
    "print('a = ', a, ', tipo de dato: ', type(a))\n",
    "a = sp.S(2)\n",
    "b = sp.S(6)\n",
    "c = a/b\n",
    "d = sp.N(c)\n",
    "e = float(c)\n",
    "print('Usando sp.S:')\n",
    "print('a = ', a, ', tipo de dato: ', type(a))\n",
    "print('b = ', b, ', tipo de dato: ', type(b))\n",
    "print('c = ', c, ', tipo de dato: ', type(c))\n",
    "print('d = ', d, ', tipo de dato: ', type(d))\n",
    "print('e = ', e, ', tipo de dato: ', type(e))\n",
    "print('e =','{0:.4f}'.format(e)) # Podedes modificar os formatos de impresión"
   ]
  },
  {
   "cell_type": "markdown",
   "metadata": {},
   "source": [
    "- Por exemplo as constantes $\\pi$ ou $e$ están definidas como constantes simbólicas. Do mesmo xeito, para operar con variables ou constantes simbólicas, debemos utilizar funcións que sexan capaces de manipular este tipo de obxectos, todas elas implementadas no módulo **SymPy** (por exemplo, `sp.sin`, `sp.cos`, `sp.tan`, `sp.log`, `sp.exp`, ...)."
   ]
  },
  {
   "cell_type": "code",
   "execution_count": 10,
   "metadata": {},
   "outputs": [
    {
     "name": "stdout",
     "output_type": "stream",
     "text": [
      "-1\n",
      "1\n",
      "-4\n"
     ]
    }
   ],
   "source": [
    "p=sp.pi # Definición da constante pi\n",
    "print(sp.cos(p))\n",
    "\n",
    "e = sp.E # Definición do número e\n",
    "print(sp.log(e))\n",
    "print(sp.log(sp.exp(-4)))"
   ]
  },
  {
   "cell_type": "markdown",
   "metadata": {},
   "source": [
    "- Tamén podemos definir as nosas propias funcións. A continuación mostramos un exemplo dunha función para calcular o logaritmo dun número en base a. Usamos os comando `def` para definir  o encabezado da función (nome que lle poñemos, log_a, e variables de entrada, base e b). Despois do comando `return` indicamos as variables que queremos que nos devolva a función unha vez chamada, neste caso o resultado desexado."
   ]
  },
  {
   "cell_type": "code",
   "execution_count": 11,
   "metadata": {},
   "outputs": [],
   "source": [
    "def log_a(base, b):\n",
    "    y = sp.log(b)/sp.log(base)\n",
    "    return float(y)"
   ]
  },
  {
   "cell_type": "code",
   "execution_count": 12,
   "metadata": {},
   "outputs": [
    {
     "data": {
      "text/plain": [
       "(2.0, 4.0)"
      ]
     },
     "execution_count": 12,
     "metadata": {},
     "output_type": "execute_result"
    }
   ],
   "source": [
    "log_a(10,100), log_a(3,81) # Chamamos á función creada por nós"
   ]
  },
  {
   "cell_type": "code",
   "execution_count": 13,
   "metadata": {},
   "outputs": [
    {
     "data": {
      "text/plain": [
       "(2.0, 4.0)"
      ]
     },
     "execution_count": 13,
     "metadata": {},
     "output_type": "execute_result"
    }
   ],
   "source": [
    "float(sp.log(100,10)), float(sp.log(81,3)) # Xa estaba implementado en Sympy. Coidado coa orde das entradas."
   ]
  },
  {
   "cell_type": "markdown",
   "metadata": {},
   "source": [
    "### Exercicio\n",
    "Podedes probar a definir outras funcións na seguinte liña de código."
   ]
  },
  {
   "cell_type": "code",
   "execution_count": null,
   "metadata": {},
   "outputs": [],
   "source": []
  },
  {
   "cell_type": "markdown",
   "metadata": {},
   "source": [
    "## Hipóteses sobre as variables\n",
    "\n",
    "Cando se define unha variable simbólica, pódeselle asignar certa información adicional sobre o tipo de valores que pode alcanzar ou as hipóteses que se lle aplicarán. Por exemplo, podemos decidir antes de realizar calquera cálculo se a variable toma valores enteiros ou reais, se é positiva ou negativa, maior que un certo número, ... Este tipo de información engádese no momento da definición da variable simbólica como un argumento opcional."
   ]
  },
  {
   "cell_type": "code",
   "execution_count": 14,
   "metadata": {},
   "outputs": [
    {
     "name": "stdout",
     "output_type": "stream",
     "text": [
      "True\n",
      "True\n",
      "None\n",
      "None\n"
     ]
    }
   ],
   "source": [
    "x = sp.Symbol('x', nonnegative = True) # A raíz cadrada dun número non negativo é real\n",
    "y = sp.sqrt(x)\n",
    "print(y.is_real)\n",
    "\n",
    "x = sp.Symbol('x', integer = True) # A potencia dun número enteiro é enteira\n",
    "y = x**sp.S(2)\n",
    "print(y.is_integer)\n",
    "\n",
    "a = sp.Symbol('a')\n",
    "b = sp.sqrt(a)\n",
    "print(b.is_real)\n",
    "\n",
    "a = sp.Symbol('a')\n",
    "b = a**sp.S(2)\n",
    "print(b.is_integer)"
   ]
  },
  {
   "cell_type": "markdown",
   "metadata": {},
   "source": [
    "- Tamén é posible realizar comprobacións sobre se certas desigualdades son verdadeiras ou non, sempre e cando se teña coidado coas hipóteses que se establezan ao definir as variables simbólicas. A resposta será `True` ou `False` dependendo de veracidade ou falsidade da expresión."
   ]
  },
  {
   "cell_type": "code",
   "execution_count": 15,
   "metadata": {},
   "outputs": [
    {
     "name": "stdout",
     "output_type": "stream",
     "text": [
      "True\n",
      "q + Abs(x) > 0\n"
     ]
    }
   ],
   "source": [
    "x = sp.Symbol('x', real = True)\n",
    "p = sp.Symbol('p', positive = True)\n",
    "q = sp.Symbol('q', real = True)\n",
    "y = sp.Abs(x) + p   # sp.Abs é a función valor absoluto\n",
    "z = sp.Abs(x) + q\n",
    "print(y > 0) # Comprobamos se y > 0\n",
    "print(z > 0)"
   ]
  },
  {
   "cell_type": "markdown",
   "metadata": {},
   "source": [
    "### Exercicio\n",
    "Porque a segunda expresión no anterior exemplo non é verdadeira nin falsa?"
   ]
  },
  {
   "cell_type": "markdown",
   "metadata": {},
   "source": [
    "## Expresións simbólicas\n",
    "\n",
    "A partir das variables simbólicas podemos definir expresións matemáticas para manipulalas, factorizalas, expandilas, simplificalas ou imprimilas de maneira semellante ao que faríamos con lapis e papel. "
   ]
  },
  {
   "cell_type": "code",
   "execution_count": 16,
   "metadata": {},
   "outputs": [
    {
     "name": "stdout",
     "output_type": "stream",
     "text": [
      "Forma 1:\n",
      "  x**3*y - 2*x**3 - 9*x**2*y + 18*x**2 + 27*x*y - 54*x - 27*y + 54\n",
      "Forma 2: \n"
     ]
    },
    {
     "data": {
      "text/latex": [
       "$\\displaystyle x^{3} y - 2 x^{3} - 9 x^{2} y + 18 x^{2} + 27 x y - 54 x - 27 y + 54$"
      ],
      "text/plain": [
       "x**3*y - 2*x**3 - 9*x**2*y + 18*x**2 + 27*x*y - 54*x - 27*y + 54"
      ]
     },
     "metadata": {},
     "output_type": "display_data"
    },
    {
     "name": "stdout",
     "output_type": "stream",
     "text": [
      "Factorizada:  (x - 3)**3*(y - 2)\n",
      "Segunda expresión:\n"
     ]
    },
    {
     "data": {
      "text/latex": [
       "$\\displaystyle -3 + \\frac{x^{2} - 6 x + 9}{x - 3}$"
      ],
      "text/plain": [
       "-3 + (x**2 - 6*x + 9)/(x - 3)"
      ]
     },
     "metadata": {},
     "output_type": "display_data"
    },
    {
     "name": "stdout",
     "output_type": "stream",
     "text": [
      "Simplificada:  x - 6\n"
     ]
    }
   ],
   "source": [
    "x,y = sp.symbols('x,y', real=True)\n",
    "expr = (x-3)*(x-3)**2*(y-2)\n",
    "expr_long = sp.expand(expr) # Expandir expresión\n",
    "\n",
    "print('Forma 1:\\n ',expr_long) # Imprimir de forma estándar\n",
    "print('Forma 2: ')\n",
    "display(expr_long) # Impresión mellorada\n",
    "\n",
    "expr_short = sp.factor(expr)\n",
    "print('Factorizada: ',expr_short) # Factorizar expresión\n",
    "\n",
    "expr2 = -3+(x**2-6*x+9)/(x-3)\n",
    "expr2_simple = sp.simplify(expr2) # Simplificar expresión\n",
    "print('Segunda expresión:')\n",
    "display(expr2)\n",
    "print('Simplificada: ', expr2_simple)"
   ]
  },
  {
   "cell_type": "markdown",
   "metadata": {},
   "source": [
    "### Substitucións\n",
    "Dada unha expresión en **SymPy**, tamén se pode manipular, substituíndo unhas variables simbólicas por outras ou mesmo por constantes. Para facer este tipo de substitucións utilízase a función `subs`. Os valores que se utilizan na substitución veñen definidos por un dicionario de Python:"
   ]
  },
  {
   "cell_type": "code",
   "execution_count": 17,
   "metadata": {},
   "outputs": [
    {
     "name": "stdout",
     "output_type": "stream",
     "text": [
      "9\n"
     ]
    },
    {
     "data": {
      "text/latex": [
       "$\\displaystyle y^{2} + 2 y \\left(1 - y\\right) + \\left(1 - y\\right)^{2}$"
      ],
      "text/plain": [
       "y**2 + 2*y*(1 - y) + (1 - y)**2"
      ]
     },
     "metadata": {},
     "output_type": "display_data"
    },
    {
     "name": "stdout",
     "output_type": "stream",
     "text": [
      "Simplificada: 1\n"
     ]
    }
   ],
   "source": [
    "x,y = sp.symbols('x,y', real=True)\n",
    "expr = x*x + x*y + y*x + y*y\n",
    "res = expr.subs({x:1, y:2}) # Substitutición das variables simbólicas por constantes\n",
    "print(res)\n",
    "\n",
    "expr_sub = expr.subs({x:1-y}) # Substitución da variable simbólica por unha expresión\n",
    "display(expr_sub)\n",
    "print('Simplificada:', sp.simplify(expr_sub))"
   ]
  },
  {
   "cell_type": "markdown",
   "metadata": {},
   "source": [
    "### Exercicio \n",
    "\n",
    "1. Define a expresión dada pola suma de $\\displaystyle a+a^2+a^3+\\ldots+a^N$, onde $a$ é unha variable real arbitraria e $N$ un valor enteiro positivo.\n",
    "\n",
    "2. Cal é o valor exacto da expresión anterior cando $N=15$ e $a=5/6$? Cal é o valor numérico en coma flotante?"
   ]
  },
  {
   "cell_type": "code",
   "execution_count": 18,
   "metadata": {},
   "outputs": [
    {
     "data": {
      "text/latex": [
       "$\\displaystyle \\sum_{n=1}^{N} a^{n}$"
      ],
      "text/plain": [
       "Sum(a**n, (n, 1, N))"
      ]
     },
     "metadata": {},
     "output_type": "display_data"
    }
   ],
   "source": [
    "a = sp.symbols('a', real=True) # Variable real\n",
    "N = sp.symbols('N', integer=True) # Variable enteira\n",
    "n = sp.symbols('n', integer=True) # Variable enteira\n",
    "\n",
    "faN = sp.Sum(a**n, (n,1,N))         # Sumatorio\n",
    "display(faN)    \n",
    "\n",
    "# Exercicio 2\n"
   ]
  },
  {
   "cell_type": "markdown",
   "metadata": {},
   "source": [
    "## Funcións\n",
    "Para simplificar a sustitución nas expresións podemos definir funcións en **SymPy** utilizando `sp.Lambda`. As funcións así definidas, poden ser avaliadas nun punto ao igual que se fai con calquera outra función xa predefinida en **SymPy**. Deste xeito non precisamos utilizar a sustitución co comando `subs`."
   ]
  },
  {
   "cell_type": "code",
   "execution_count": 19,
   "metadata": {},
   "outputs": [
    {
     "data": {
      "text/latex": [
       "$\\displaystyle \\left( x \\mapsto x \\cos{\\left(4 x \\right)} \\right)$"
      ],
      "text/plain": [
       "Lambda(x, x*cos(4*x))"
      ]
     },
     "metadata": {},
     "output_type": "display_data"
    },
    {
     "name": "stdout",
     "output_type": "stream",
     "text": [
      "Valor de f(2)= 2*cos(8)\n",
      "Valor de f(2)= 2*cos(8)\n",
      "True\n"
     ]
    }
   ],
   "source": [
    "x = sp.symbols('x', real=True) # Define a variable simbólica real x\n",
    "f_expr = x*sp.cos(4*x) # Isto é unha expresión\n",
    "f = sp.Lambda((x),f_expr) # Creamos a función \"f\" a partir da expresión \"f_expr\"\n",
    "display(f)\n",
    "print('Valor de f(2)=',f(2)) # Avaliación da función\n",
    "print('Valor de f(2)=',f_expr.subs(x,2)) # Substitución na expresión\n",
    "print(f(x)==f_expr) # Comprobamos que son o mesmo"
   ]
  },
  {
   "cell_type": "markdown",
   "metadata": {},
   "source": [
    "### Exercicio\n",
    "Podes practicar definindo outras expresións e funcións na seguinte liña de código.\n"
   ]
  },
  {
   "cell_type": "code",
   "execution_count": null,
   "metadata": {},
   "outputs": [],
   "source": []
  },
  {
   "cell_type": "markdown",
   "metadata": {},
   "source": [
    "## Resolución ecuacións\n",
    "Dada unha expresión en **Sympy**, podemos formular e resolver unha ecuación coa mesma usando a función `solve`, que entende que a expresión se iguala a 0 (é dicir, debemos pasar todo ao primero membro). Por exemplo, se queremos resolver $e^{x+1}=5$ debemos pensar en $e^{x+1}-5=0$:"
   ]
  },
  {
   "cell_type": "code",
   "execution_count": 20,
   "metadata": {},
   "outputs": [
    {
     "name": "stdout",
     "output_type": "stream",
     "text": [
      "Queremos resolver a ecuación exp(x+1)=5\n",
      "Solución:  [-1 + log(5)]\n"
     ]
    }
   ],
   "source": [
    "x = sp.Symbol('x', real = True)\n",
    "expr = sp.exp(x+1)-5\n",
    "solucion = sp.solve(expr,x)\n",
    "print(\"Queremos resolver a ecuación exp(x+1)=5\")\n",
    "print(\"Solución: \", solucion)\n",
    "# Nota: en casos sixelos, como este, podemos escribir directamente\n",
    "# solucion = sp.solve(sp.exp(x+1)-5,x)"
   ]
  },
  {
   "cell_type": "markdown",
   "metadata": {},
   "source": [
    "## Representación gráfica\n",
    "\n",
    "A documentación oficial de **SymPy** sobre representación gráfica está en https://docs.sympy.org/latest/modules/plotting.html.\n",
    "\n",
    "### Rexións no plano\n",
    "\n",
    "Podemos representar rexións coa instrucción `plot_implicit`, que pode ter como argumento de entrada tanto igualdades como desigualdades:"
   ]
  },
  {
   "cell_type": "code",
   "execution_count": 21,
   "metadata": {},
   "outputs": [
    {
     "data": {
      "image/png": "[encoded data removed]",
      "text/plain": [
       "<Figure size 432x288 with 1 Axes>"
      ]
     },
     "metadata": {
      "needs_background": "light"
     },
     "output_type": "display_data"
    },
    {
     "data": {
      "image/png": "[encoded data removed]",
      "text/plain": [
       "<Figure size 432x288 with 1 Axes>"
      ]
     },
     "metadata": {
      "needs_background": "light"
     },
     "output_type": "display_data"
    },
    {
     "data": {
      "image/png": "[encoded data removed]",
      "text/plain": [
       "<Figure size 432x288 with 1 Axes>"
      ]
     },
     "metadata": {
      "needs_background": "light"
     },
     "output_type": "display_data"
    },
    {
     "data": {
      "image/png": "[encoded data removed]",
      "text/plain": [
       "<Figure size 432x288 with 1 Axes>"
      ]
     },
     "metadata": {
      "needs_background": "light"
     },
     "output_type": "display_data"
    }
   ],
   "source": [
    "x, y = sp.symbols('x,y', real=True)\n",
    "\n",
    "p1 = sp.plot_implicit(sp.Eq(x**2 + y**2, 3**2))  # Cunha igualdade: Representamos graficamente a circunferencia de centro (0,0) e raio 3.\n",
    "p1 = sp.plot_implicit(sp.Eq(x**2 + y**2, 3**2), aspect_ratio=(1.,1.)) # Podemos visualizar mellor o círculo considerando a mesma escala en cada eixo.\n",
    "p2 = sp.plot_implicit(y > x**2)  # Unha desigualdade\n",
    "p3 = sp.plot_implicit(sp.And(sp.And(y > x, y > -x), y < x + 4))  # Dúas desigualdades, ligadas co operador lóxico `sp.And` (noutros casos, usaremos `sp.Or`)\n"
   ]
  },
  {
   "cell_type": "markdown",
   "metadata": {},
   "source": [
    "### Exercicio:\n",
    " \n",
    "Representa graficamente as siguientes rexións ou conxuntos no plano:\n",
    "- O conxunto de puntos que satisfán $y=2x^2-3$.\n",
    "- A rexión, no plano, dos puntos que cumplen $y<x^2$ e $|y|<2$. \n",
    "- A rexión, no plano, dos puntos que cumplen $y>x$ ou $y<-2x$.\n",
    "- A rexión, no plano, dos puntos que están no interior dun paralelogramo de vértices $(0,0)$, $(0,1)$, $(1,1)$ e $(1,2)$."
   ]
  },
  {
   "cell_type": "code",
   "execution_count": 22,
   "metadata": {},
   "outputs": [
    {
     "data": {
      "image/png": "[encoded data removed]",
      "text/plain": [
       "<Figure size 432x288 with 1 Axes>"
      ]
     },
     "metadata": {
      "needs_background": "light"
     },
     "output_type": "display_data"
    }
   ],
   "source": [
    "#p4 = sp.plot_implicit(sp.Eq(2*x**2 - 3, y))\n",
    "#p5 = sp.plot_implicit(sp.And(y<x**2,sp.Abs(y)<2))\n",
    "#p6 = sp.plot_implicit(sp.Or(y>x,y<-2*x))\n",
    "p7 = sp.plot_implicit(sp.And(sp.And(sp.And(x>0,x<1),y>x),y<x+1))\n"
   ]
  },
  {
   "cell_type": "markdown",
   "metadata": {},
   "source": [
    "### Gráficas de funcións\n",
    "Para representar en gráficas funcións con **SymPy** utilizaremos a orde `plot` e a continuación a expresión da función que desexemos representar. No seguinte exemplo mostramos algunhas das opcións na representación:"
   ]
  },
  {
   "cell_type": "code",
   "execution_count": 23,
   "metadata": {},
   "outputs": [
    {
     "data": {
      "image/png": "[encoded data removed]",
      "text/plain": [
       "<Figure size 432x288 with 1 Axes>"
      ]
     },
     "metadata": {
      "needs_background": "light"
     },
     "output_type": "display_data"
    }
   ],
   "source": [
    "x = sp.symbols('x', real=True)\n",
    "p = sp.plot(sp.sin(x), sp.cos(x), (x, 0, 4*sp.pi), show=False)\n",
    "p[0].line_color='r'\n",
    "p[1].line_color='b'\n",
    "p.xlabel='x'\n",
    "p.ylabel='y'\n",
    "p.legend=True\n",
    "p.show()"
   ]
  },
  {
   "cell_type": "markdown",
   "metadata": {},
   "source": [
    "### Exercicio\n",
    "Podes representar outras funcións e/ou modificar as opcións na seguinte liña de código.\n"
   ]
  },
  {
   "cell_type": "code",
   "execution_count": null,
   "metadata": {},
   "outputs": [],
   "source": []
  },
  {
   "cell_type": "markdown",
   "metadata": {},
   "source": [
    "## Funcións definidas a pedazos\n",
    "\n",
    "A pesar de que en **SymPy** temos a función `Piecewise` para definir funcións a pedazos, esta ten moitas limitacións (por exemplo, para o cálculo de límites laterais). En xeral, é máis útil definir as funcións a pedazos usando a función de **Heaviside**, $\\theta$, que ven dada por:\n",
    "\n",
    "$$\n",
    "\\theta(x)=\n",
    "\\begin{cases}\n",
    "0 & \\text{se } t \\le 0,\\\\\n",
    "1 & \\text{se } t \\gt 0.\\\\\n",
    "\\end{cases}\n",
    "$$\n",
    "\n",
    "Entón, unha función definida por\n",
    "\n",
    "$$\n",
    "f(x)=\n",
    "\\begin{cases}\n",
    "f_{1}(x) & \\text{se } x \\le 0,\\\\\n",
    "f_2(x) & \\text{se } x>0,\n",
    "\\end{cases}\n",
    "$$\n",
    "\n",
    "escribiríase como\n",
    "\n",
    "$$\n",
    "f(x) = f_1(x)+(f_2(x)-f_1(x))\\theta(x).\n",
    "$$\n",
    "\n",
    "Escribimos por exemplo a función:\n",
    "$$\n",
    "g(x)=\n",
    "\\begin{cases}\n",
    "\\frac{1}{x} & \\text{se } x \\le 0,\\\\\n",
    "1 & \\text{se } x>0,\n",
    "\\end{cases}\n",
    "$$\n"
   ]
  },
  {
   "cell_type": "code",
   "execution_count": 24,
   "metadata": {},
   "outputs": [
    {
     "data": {
      "text/latex": [
       "$\\displaystyle \\left( x \\mapsto \\left(1 - \\frac{1}{x}\\right) \\theta\\left(x\\right) + \\frac{1}{x} \\right)$"
      ],
      "text/plain": [
       "Lambda(x, (1 - 1/x)*Heaviside(x, 0) + 1/x)"
      ]
     },
     "metadata": {},
     "output_type": "display_data"
    },
    {
     "data": {
      "text/latex": [
       "$\\displaystyle \\begin{cases} \\frac{1}{x} & \\text{for}\\: x \\leq 0 \\\\1 & \\text{otherwise} \\end{cases}$"
      ],
      "text/plain": [
       "Piecewise((1/x, x <= 0), (1, True))"
      ]
     },
     "metadata": {},
     "output_type": "display_data"
    }
   ],
   "source": [
    "# Definición da función\n",
    "g1 = 1/x; g2 = 1\n",
    "g_expr = g1 + (g2 - g1) * sp.Heaviside(x, 0)  \n",
    "g_pedazos = sp.Lambda(x, g_expr)\n",
    "display(g_pedazos)\n",
    "# Comprobar a definición da función g\n",
    "display(sp.simplify(g_pedazos(x).rewrite(sp.Piecewise)))\n"
   ]
  },
  {
   "cell_type": "markdown",
   "metadata": {},
   "source": [
    "## Límites\n",
    "Podemos calcular límites utilizando a función `sp.limit`, vexamos como:"
   ]
  },
  {
   "cell_type": "code",
   "execution_count": 25,
   "metadata": {},
   "outputs": [
    {
     "data": {
      "text/latex": [
       "$\\displaystyle \\left( x \\mapsto \\frac{\\cos{\\left(x \\right)}}{x + 1} \\right)$"
      ],
      "text/plain": [
       "Lambda(x, cos(x)/(x + 1))"
      ]
     },
     "metadata": {},
     "output_type": "display_data"
    },
    {
     "data": {
      "text/latex": [
       "$\\displaystyle -\\infty$"
      ],
      "text/plain": [
       "-oo"
      ]
     },
     "metadata": {},
     "output_type": "display_data"
    },
    {
     "data": {
      "text/latex": [
       "$\\displaystyle \\infty$"
      ],
      "text/plain": [
       "oo"
      ]
     },
     "metadata": {},
     "output_type": "display_data"
    }
   ],
   "source": [
    "g_expr = sp.cos(x)/(x+1)\n",
    "g = sp.Lambda(x, g_expr)\n",
    "\n",
    "display(g)\n",
    "\n",
    "display(sp.limit(g(x),x,-1,dir='-')) # Límite pola esquerda\n",
    "display(sp.limit(g(x),x,-1,dir='+')) # Límite pola dereita\n"
   ]
  },
  {
   "cell_type": "markdown",
   "metadata": {},
   "source": [
    "- Neste caso, o límite $\\displaystyle\\lim_{x\\to -1}g(x)$ non existe xa que os límites laterais non coinciden. Pero unha incorrecta utilización do paquete pódenos levar a unha **conclusión errónea**:"
   ]
  },
  {
   "cell_type": "code",
   "execution_count": 26,
   "metadata": {},
   "outputs": [
    {
     "data": {
      "text/latex": [
       "$\\displaystyle \\infty$"
      ],
      "text/plain": [
       "oo"
      ]
     },
     "metadata": {},
     "output_type": "display_data"
    }
   ],
   "source": [
    "display(sp.limit(g(x),x,-1)) # Da un resultado (incorrecto) xa que, por defecto, utiliza o valor do límite pola dereita"
   ]
  },
  {
   "cell_type": "markdown",
   "metadata": {},
   "source": [
    "- Tamén podemos calcular o límite da anterior función definida a pedazos:"
   ]
  },
  {
   "cell_type": "code",
   "execution_count": 27,
   "metadata": {},
   "outputs": [
    {
     "data": {
      "text/latex": [
       "$\\displaystyle \\begin{cases} \\frac{1}{x} & \\text{for}\\: x \\leq 0 \\\\1 & \\text{otherwise} \\end{cases}$"
      ],
      "text/plain": [
       "Piecewise((1/x, x <= 0), (1, True))"
      ]
     },
     "metadata": {},
     "output_type": "display_data"
    },
    {
     "data": {
      "text/latex": [
       "$\\displaystyle -\\infty$"
      ],
      "text/plain": [
       "-oo"
      ]
     },
     "metadata": {},
     "output_type": "display_data"
    },
    {
     "data": {
      "text/latex": [
       "$\\displaystyle 1$"
      ],
      "text/plain": [
       "1"
      ]
     },
     "metadata": {},
     "output_type": "display_data"
    }
   ],
   "source": [
    "display(sp.simplify(g_pedazos(x).rewrite(sp.Piecewise)))\n",
    "display(sp.limit(g_pedazos(x),x,0,dir='-')) # Límite pola esquerda\n",
    "display(sp.limit(g_pedazos(x),x,0,dir='+')) # Límite pola dereita"
   ]
  },
  {
   "cell_type": "markdown",
   "metadata": {},
   "source": [
    "- Para calcular límites no infinito, $x\\to+\\infty$ ou $x\\to-\\infty$ representamos o valor de $\\infty$ en **SymPy** por `sp.oo`. "
   ]
  },
  {
   "cell_type": "code",
   "execution_count": 28,
   "metadata": {},
   "outputs": [
    {
     "data": {
      "text/latex": [
       "$\\displaystyle 0$"
      ],
      "text/plain": [
       "0"
      ]
     },
     "metadata": {},
     "output_type": "display_data"
    },
    {
     "data": {
      "text/latex": [
       "$\\displaystyle \\infty$"
      ],
      "text/plain": [
       "oo"
      ]
     },
     "metadata": {},
     "output_type": "display_data"
    }
   ],
   "source": [
    "display(sp.limit(sp.exp(x),x,-sp.oo))\n",
    "display(sp.limit(sp.exp(x),x,sp.oo))"
   ]
  },
  {
   "cell_type": "markdown",
   "metadata": {},
   "source": [
    "### Exercicio \n",
    "\n",
    "Representa graficamente a seguinte función e calcula os límites que se indican: \n",
    "\n",
    "$$\n",
    "f(x)=\n",
    "\\begin{cases}\n",
    "\\cos(x) & \\text{se } x<1,\\\\\n",
    "\\frac{x^2}{x+1} & \\text{se } x \\geq 1,\n",
    "\\end{cases}\n",
    "$$\n",
    "\n",
    "- $\\lim_{x\\to 0} f(x)$,\n",
    "- $\\lim_{x\\to 2} f(x)$,\n",
    "- $\\lim_{x\\to 1^{-}} f(x)$,\n",
    "- $\\lim_{x\\to 1^{+}} f(x)$."
   ]
  },
  {
   "cell_type": "code",
   "execution_count": 29,
   "metadata": {},
   "outputs": [
    {
     "name": "stdout",
     "output_type": "stream",
     "text": [
      "f(x) =\n"
     ]
    },
    {
     "data": {
      "text/latex": [
       "$\\displaystyle \\begin{cases} \\cos{\\left(x \\right)} & \\text{for}\\: x < 1 \\\\\\frac{x^{2}}{x + 1} & \\text{otherwise} \\end{cases}$"
      ],
      "text/plain": [
       "Piecewise((cos(x), x < 1), (x**2/(x + 1), True))"
      ]
     },
     "metadata": {},
     "output_type": "display_data"
    },
    {
     "name": "stdout",
     "output_type": "stream",
     "text": [
      "Límite en 0: \n"
     ]
    },
    {
     "data": {
      "text/latex": [
       "$\\displaystyle 1$"
      ],
      "text/plain": [
       "1"
      ]
     },
     "metadata": {},
     "output_type": "display_data"
    },
    {
     "name": "stdout",
     "output_type": "stream",
     "text": [
      "Límite en 2: \n"
     ]
    },
    {
     "data": {
      "text/latex": [
       "$\\displaystyle \\frac{4}{3}$"
      ],
      "text/plain": [
       "4/3"
      ]
     },
     "metadata": {},
     "output_type": "display_data"
    },
    {
     "name": "stdout",
     "output_type": "stream",
     "text": [
      "Límite en 1 pola dereita: \n"
     ]
    },
    {
     "data": {
      "text/latex": [
       "$\\displaystyle \\frac{1}{2}$"
      ],
      "text/plain": [
       "1/2"
      ]
     },
     "metadata": {},
     "output_type": "display_data"
    },
    {
     "name": "stdout",
     "output_type": "stream",
     "text": [
      "Límite en 1 pola esquerda: \n"
     ]
    },
    {
     "data": {
      "text/latex": [
       "$\\displaystyle \\cos{\\left(1 \\right)}$"
      ],
      "text/plain": [
       "cos(1)"
      ]
     },
     "metadata": {},
     "output_type": "display_data"
    },
    {
     "data": {
      "text/plain": [
       "0.5403023058681398"
      ]
     },
     "metadata": {},
     "output_type": "display_data"
    },
    {
     "data": {
      "image/png": "[encoded data removed]",
      "text/plain": [
       "<Figure size 432x288 with 1 Axes>"
      ]
     },
     "metadata": {
      "needs_background": "light"
     },
     "output_type": "display_data"
    },
    {
     "data": {
      "image/png": "[encoded data removed]",
      "text/plain": [
       "<Figure size 432x288 with 1 Axes>"
      ]
     },
     "metadata": {
      "needs_background": "light"
     },
     "output_type": "display_data"
    }
   ],
   "source": [
    "x = sp.symbols('x', real=True) # Definimos a variable x\n",
    "f1 = sp.cos(x)\n",
    "f2 = x**2/(x+1)\n",
    "fx_ex = f1 + (f2 - f1) * sp.Heaviside(x-1, 1)  \n",
    "f = sp.Lambda(x, fx_ex)\n",
    "print('f(x) =')\n",
    "display(sp.simplify(f(x).rewrite(sp.Piecewise)))\n",
    "\n",
    "# Calcular os límites\n",
    "print('Límite en 0: ')\n",
    "display(sp.limit(f(x),x,0)) \n",
    "print('Límite en 2: ')\n",
    "display(sp.limit(f(x),x,2)) \n",
    "print('Límite en 1 pola dereita: ')\n",
    "display(sp.limit(f(x),x,1,dir='+')) \n",
    "print('Límite en 1 pola esquerda: ')\n",
    "display(sp.limit(f(x),x,1,dir='-')) \n",
    "display(float(sp.limit(f(x),x,1,dir='-'))) \n",
    "\n",
    "\n",
    "# Figura\n",
    "p = sp.plot(f(x), (x, -10, 4), show=False)\n",
    "p.line_color='b'\n",
    "p.xlabel='x'\n",
    "p.ylabel='y'\n",
    "#p.legend=True\n",
    "p.ylim=(-4,4)\n",
    "p.show()\n",
    "\n",
    "# Facemos zoom\n",
    "p = sp.plot(f(x), (x, 0.8, 1.2), show=False)\n",
    "p.line_color='b'\n",
    "p.xlabel='x'\n",
    "p.ylabel='y'\n",
    "#p.legend=True\n",
    "p.ylim=(0.3,0.8)\n",
    "p.show()"
   ]
  },
  {
   "cell_type": "markdown",
   "metadata": {},
   "source": [
    "### Exercicio\n",
    "Observa como modificamos a función de Heaviside no anterior exercicio para poder escribir a función pedida. Utiliza a seguinte liña para describir outras funcións a pedazos.\n"
   ]
  },
  {
   "cell_type": "code",
   "execution_count": null,
   "metadata": {},
   "outputs": [],
   "source": []
  },
  {
   "cell_type": "markdown",
   "metadata": {},
   "source": [
    "# Módulo NumPy\n",
    "## Vectores de números\n",
    "\n",
    "En Python, existen moitas formas de gardar datos numéricos (ou non), como as estruturas de lista ou tupla. En particular, as listas poden conter unha secuencia finita de números ordenados (e utilizar un índice para acceder a cada un dos elementos da lista). Ademais, son suficientemente flexibles para conter datos de diferente natureza (combinación de números enteiros, reais, listas de listas, ...).\n",
    "\n",
    "Pero esta flexibilidade das listas en Python fai que o seu rendemento computacional sexa moi limitado. Na maioría das aplicacións científicas en matemáticas (coas súas aplicacións en diferentes áreas da enxeñaría informática, intelixencia artificial, ciencia de datos, ...), os problemas reais requiren operacións sobre grandes conxuntos de datos e, por tanto, a velocidade computacional é moi importante para estes problemas. Para traballar de forma eficiente con estes problemas, **NumPy** proporciona funcións especializadas e estruturas de datos adecuadas. En particular, para o caso de conxuntos de números do mesmo tipo (perdendo parte da flexibilidade das listas, pero gañando eficacia computacional).  \n",
    "\n",
    "**Vectores unidimensionais**: Un vector unidimensional é unha colección ordenada de números aos que se pode acceder mediante un índice (co que se preserva a orde). Por defecto, os vectores en **NumPy** son vectores fila.\n",
    "\n",
    "**Creación de vectores e indexado**: Para crear un vector **NumPy** de lonxitude 10 e inicializado con ceros, utilizamos a función `np.zeros()`:"
   ]
  },
  {
   "cell_type": "code",
   "execution_count": 30,
   "metadata": {},
   "outputs": [
    {
     "name": "stdout",
     "output_type": "stream",
     "text": [
      "[0. 0. 0. 0. 0. 0. 0. 0. 0. 0.]\n",
      "<class 'numpy.ndarray'>\n"
     ]
    }
   ],
   "source": [
    "u = np.zeros(10)\n",
    "print(u)\n",
    "print(type(u))"
   ]
  },
  {
   "cell_type": "markdown",
   "metadata": {},
   "source": [
    "O tipo por defecto dos elementos contidos nos vectores en **NumPy** é `float64` (que é o tipo gardado en `np.float`). Se queremos usar outros tipos, temos que utilizar o argumento opcional `dtype`. O tipo dos elementos dun vector pódese comprobar mediante o atributo `dtype` dos vectores **NumPy**:"
   ]
  },
  {
   "cell_type": "code",
   "execution_count": 31,
   "metadata": {},
   "outputs": [
    {
     "name": "stdout",
     "output_type": "stream",
     "text": [
      "float64\n",
      "[0 0 0 0 0]\n",
      "<class 'numpy.ndarray'>\n",
      "int32\n"
     ]
    }
   ],
   "source": [
    "print(u.dtype)\n",
    "w = np.zeros(5, dtype=np.int)\n",
    "print(w)\n",
    "print(type(w))\n",
    "print(w.dtype)"
   ]
  },
  {
   "cell_type": "markdown",
   "metadata": {},
   "source": [
    "**Non se pode** engadir un valor do tipo **cadea de texto** (tipo `string`) a un obxecto `numpy.ndarray`, xa que tódolos elementos do vector deben ser do mesmo tipo (ou dun tipo que admita unha conversión) e deben ter tamén o mesmo tamaño."
   ]
  },
  {
   "cell_type": "code",
   "execution_count": 32,
   "metadata": {},
   "outputs": [
    {
     "name": "stdout",
     "output_type": "stream",
     "text": [
      "[0. 0. 0. 0. 0. 0. 0. 0. 0. 0.]\n"
     ]
    },
    {
     "ename": "ValueError",
     "evalue": "operands could not be broadcast together with shapes (10,) (5,) ",
     "output_type": "error",
     "traceback": [
      "\u001b[1;31m---------------------------------------------------------------------------\u001b[0m",
      "\u001b[1;31mValueError\u001b[0m                                Traceback (most recent call last)",
      "\u001b[1;32m<ipython-input-32-88119238798a>\u001b[0m in \u001b[0;36m<module>\u001b[1;34m\u001b[0m\n\u001b[0;32m      1\u001b[0m \u001b[0mv\u001b[0m \u001b[1;33m=\u001b[0m \u001b[0mnp\u001b[0m\u001b[1;33m.\u001b[0m\u001b[0mzeros\u001b[0m\u001b[1;33m(\u001b[0m\u001b[1;36m10\u001b[0m\u001b[1;33m,\u001b[0m \u001b[0mdtype\u001b[0m\u001b[1;33m=\u001b[0m\u001b[0mnp\u001b[0m\u001b[1;33m.\u001b[0m\u001b[0mint\u001b[0m\u001b[1;33m)\u001b[0m\u001b[1;33m\u001b[0m\u001b[1;33m\u001b[0m\u001b[0m\n\u001b[0;32m      2\u001b[0m \u001b[0mprint\u001b[0m\u001b[1;33m(\u001b[0m\u001b[0mu\u001b[0m \u001b[1;33m+\u001b[0m \u001b[0mv\u001b[0m\u001b[1;33m)\u001b[0m \u001b[1;31m# Implicitamente faise unha conversión de tipo de int64 a float64\u001b[0m\u001b[1;33m\u001b[0m\u001b[1;33m\u001b[0m\u001b[0m\n\u001b[1;32m----> 3\u001b[1;33m \u001b[0mprint\u001b[0m\u001b[1;33m(\u001b[0m\u001b[0mu\u001b[0m \u001b[1;33m+\u001b[0m \u001b[0mw\u001b[0m\u001b[1;33m)\u001b[0m \u001b[1;31m# ERRO: ¡Os vectores non teñen o mesmo tamaño!\u001b[0m\u001b[1;33m\u001b[0m\u001b[1;33m\u001b[0m\u001b[0m\n\u001b[0m",
      "\u001b[1;31mValueError\u001b[0m: operands could not be broadcast together with shapes (10,) (5,) "
     ]
    }
   ],
   "source": [
    "v = np.zeros(10, dtype=np.int)\n",
    "print(u + v) # Implicitamente faise unha conversión de tipo de int64 a float64\n",
    "print(u + w) # ERRO: ¡Os vectores non teñen o mesmo tamaño!"
   ]
  },
  {
   "cell_type": "markdown",
   "metadata": {},
   "source": [
    "## Lonxitude de vectores\n",
    "Para comprobar o tamaño dun vector, podemos usar a función `len`:"
   ]
  },
  {
   "cell_type": "code",
   "execution_count": 33,
   "metadata": {},
   "outputs": [
    {
     "name": "stdout",
     "output_type": "stream",
     "text": [
      "10\n"
     ]
    }
   ],
   "source": [
    "print(len(u))"
   ]
  },
  {
   "cell_type": "markdown",
   "metadata": {},
   "source": [
    "Outra forma de comprobar a dimensión dun vector é usar `u.shape`, que nos devolve unha tupla coas dimensións do vector (o tamaño do vector en cada dirección). No caso dos vectores, só hai unha única dirección, mentres que en conxuntos de datos con múltiples índices (matrices ou tensores $n$-dimensionais), `shape` infórmanos sobre o tamaño destas estruturas de datos en cada dirección."
   ]
  },
  {
   "cell_type": "code",
   "execution_count": 34,
   "metadata": {},
   "outputs": [
    {
     "name": "stdout",
     "output_type": "stream",
     "text": [
      "(10,)\n",
      "[[0 0 0]\n",
      " [0 0 0]]\n",
      "(2, 3)\n"
     ]
    }
   ],
   "source": [
    "print(u.shape)\n",
    "# probamos agora cunha matriz\n",
    "A =  np.zeros((2,3), dtype=np.int)\n",
    "print(A)\n",
    "print(A.shape)"
   ]
  },
  {
   "cell_type": "markdown",
   "metadata": {},
   "source": [
    "## Indexación\n",
    "Podemos cambiar as entradas dun vector utilizando a indexación.\n",
    "> **NOTA IMPORTANTE**: Hai que acordarse de que en Python os valores dos índices empezan en 0."
   ]
  },
  {
   "cell_type": "code",
   "execution_count": 35,
   "metadata": {},
   "outputs": [
    {
     "name": "stdout",
     "output_type": "stream",
     "text": [
      "[0. 0. 0. 0. 0. 0. 0. 0. 0. 0.]\n",
      "[10.   0.   0.  -4.3  0.   0.   0.   0.   0.   1. ]\n"
     ]
    }
   ],
   "source": [
    "print(u)\n",
    "u[0] = 10.0\n",
    "u[3] = -4.3\n",
    "u[9] = 1.0\n",
    "print(u)"
   ]
  },
  {
   "cell_type": "markdown",
   "metadata": {},
   "source": [
    "## Formas de crear vectores\n",
    "- Usando a función `np.ones` para crear un vector de uns."
   ]
  },
  {
   "cell_type": "code",
   "execution_count": 36,
   "metadata": {},
   "outputs": [
    {
     "name": "stdout",
     "output_type": "stream",
     "text": [
      "[1. 1. 1. 1. 1.]\n",
      "float64\n"
     ]
    }
   ],
   "source": [
    "w = np.ones(5)\n",
    "print(w)\n",
    "print(w.dtype)"
   ]
  },
  {
   "cell_type": "markdown",
   "metadata": {},
   "source": [
    "- Usando a función `random.rand` para crear un vector de valores aleatorios."
   ]
  },
  {
   "cell_type": "code",
   "execution_count": 37,
   "metadata": {},
   "outputs": [
    {
     "name": "stdout",
     "output_type": "stream",
     "text": [
      "[0.65137336 0.60550115 0.67856141 0.13180408 0.51809417 0.85035035]\n"
     ]
    }
   ],
   "source": [
    "w = np.random.rand(6)\n",
    "print(w)"
   ]
  },
  {
   "cell_type": "markdown",
   "metadata": {},
   "source": [
    "- Podemos crear vector un de números de tipo `numpy.array` a partir dunha lista Python de números:"
   ]
  },
  {
   "cell_type": "code",
   "execution_count": 38,
   "metadata": {},
   "outputs": [
    {
     "name": "stdout",
     "output_type": "stream",
     "text": [
      "[ 4.  8.  9. 11. -2.]\n"
     ]
    }
   ],
   "source": [
    "u = [4.0, 8.0, 9.0, 11.0, -2.0]\n",
    "v = np.array(u)\n",
    "print(v)"
   ]
  },
  {
   "cell_type": "markdown",
   "metadata": {},
   "source": [
    "- Dous métodos importantes para crear vectores de números son:\n",
    "    - `np.arange` para crear vectores con valores enteiros consecutivos (de forma semellante á función de Python `range`).\n",
    "    - `np.linspace` para crear vectores de números equiespaciados cun valor inicial e final (ambos incluídos) e dun tamaño dado."
   ]
  },
  {
   "cell_type": "code",
   "execution_count": 39,
   "metadata": {},
   "outputs": [
    {
     "name": "stdout",
     "output_type": "stream",
     "text": [
      "[2 3 4 5]\n",
      "int32\n"
     ]
    }
   ],
   "source": [
    "u = np.arange(2, 6)\n",
    "print(u)\n",
    "print(u.dtype)"
   ]
  },
  {
   "cell_type": "code",
   "execution_count": 40,
   "metadata": {
    "scrolled": true
   },
   "outputs": [
    {
     "name": "stdout",
     "output_type": "stream",
     "text": [
      "[  0.  20.  40.  60.  80. 100.]\n",
      "float64\n"
     ]
    }
   ],
   "source": [
    "w = np.linspace(0., 100., 6)\n",
    "print(w)\n",
    "print(w.dtype)"
   ]
  },
  {
   "cell_type": "markdown",
   "metadata": {},
   "source": [
    "### Exercicio \n",
    "Podes utilizar a seguinte liña de códido para definir os teus propios vectores."
   ]
  },
  {
   "cell_type": "code",
   "execution_count": null,
   "metadata": {},
   "outputs": [],
   "source": []
  },
  {
   "cell_type": "markdown",
   "metadata": {},
   "source": [
    "## Funcións e operacións sobre vectores\n",
    "Os vectores en **NumPy** soportan as operaciones aritméticas básicas (producto, sumas, restas, ...)."
   ]
  },
  {
   "cell_type": "code",
   "execution_count": 41,
   "metadata": {},
   "outputs": [
    {
     "name": "stdout",
     "output_type": "stream",
     "text": [
      "[1.  0.2 1.2]\n",
      "[2.  0.1 2.1]\n",
      "[3.  0.3 3.3]\n"
     ]
    }
   ],
   "source": [
    "a = np.array([1.0, 0.2, 1.2])\n",
    "b = np.array([2.0, 0.1, 2.1])\n",
    "print(a)\n",
    "print(b)\n",
    "\n",
    "# Suma de a e b\n",
    "c = a + b\n",
    "print(c)"
   ]
  },
  {
   "cell_type": "markdown",
   "metadata": {},
   "source": [
    "- Produto por un escalar:"
   ]
  },
  {
   "cell_type": "code",
   "execution_count": 42,
   "metadata": {},
   "outputs": [
    {
     "name": "stdout",
     "output_type": "stream",
     "text": [
      "[10.  2. 12.]\n"
     ]
    }
   ],
   "source": [
    "c = 10.0*a\n",
    "print(c)"
   ]
  },
  {
   "cell_type": "markdown",
   "metadata": {},
   "source": [
    "- Elevar tódolos elementos a unha potencia."
   ]
  },
  {
   "cell_type": "code",
   "execution_count": 43,
   "metadata": {},
   "outputs": [
    {
     "name": "stdout",
     "output_type": "stream",
     "text": [
      "[ 4  9 16]\n"
     ]
    }
   ],
   "source": [
    "a = np.array([2, 3, 4])\n",
    "print(a**2)"
   ]
  },
  {
   "cell_type": "markdown",
   "metadata": {},
   "source": [
    "- Aplicar as funcións usuais do cálculo a cada unha das súas compoñentes."
   ]
  },
  {
   "cell_type": "code",
   "execution_count": 44,
   "metadata": {},
   "outputs": [
    {
     "name": "stdout",
     "output_type": "stream",
     "text": [
      "[0.         1.57079633 3.14159265 4.71238898]\n",
      "[ 0.0000000e+00  1.0000000e+00  1.2246468e-16 -1.0000000e+00]\n"
     ]
    }
   ],
   "source": [
    "# Crear un vector [0, pi/2, pi, 3pi/2]\n",
    "a = np.array([0.0, np.pi/2, np.pi, 3*np.pi/2])\n",
    "print(a)\n",
    "\n",
    "# Calcular o seno de cada compoñente do vector\n",
    "b = np.sin(a)\n",
    "print(b)"
   ]
  },
  {
   "cell_type": "markdown",
   "metadata": {},
   "source": [
    "Debemos destacar que a función que se está a usar é `np.sin`, que depende directamente do módulo **NumPy**. O uso de calquera outra implementación da función noutros módulos (por exemplo, no módulo **Math**), podería dar lugar a erros.\n",
    "\n",
    "Evidentemente, tamén podemos calcular o seno de cada coeficiente do vector, accedendo a cada un dos elementos mediante o seu índice e facendo os cálculos no interior dun bucle `for`. Neste caso, o programa é máis longo e difícil de ler. Ademais, en moitos casos será máis lento. A manipulación de vectores e calquera dos cálculos realizados entre eles sen acceder aos índices adoitan coñecerse como **vectorización**. Cando sexa posible empregala, a vectorización incrementará o rendemento e a velocidade dos códigos de cálculo."
   ]
  },
  {
   "cell_type": "code",
   "execution_count": 45,
   "metadata": {},
   "outputs": [
    {
     "name": "stdout",
     "output_type": "stream",
     "text": [
      "[ 0.0000000e+00  1.0000000e+00  1.2246468e-16 -1.0000000e+00]\n"
     ]
    }
   ],
   "source": [
    "b = np.zeros(len(a))\n",
    "for i in range(len(a)):\n",
    "    b[i] = np.sin(a[i])\n",
    "\n",
    "print(b)"
   ]
  },
  {
   "cell_type": "markdown",
   "metadata": {},
   "source": [
    "### Exercicio \n",
    "Podes utilizar a seguinte liña de códido para realizar distintas operacións con vectores."
   ]
  },
  {
   "cell_type": "code",
   "execution_count": null,
   "metadata": {},
   "outputs": [],
   "source": []
  },
  {
   "cell_type": "markdown",
   "metadata": {},
   "source": [
    "## Construción de subvectores\n",
    "\n",
    "Cando se traballa con vectores de números, é común ter que extraer un subconxunto destes para crear un novo vector. Por exemplo, obter os tres primeiros coeficientes dun vector ou, no caso de matrices, restrinxir os cálculos á súa segunda columna. Este tipo de operacións coñécese como división de vectores (ou, en inglés, *array slicing*).\n",
    "\n",
    "Imos explorar como proceder con diversos exemplos."
   ]
  },
  {
   "cell_type": "code",
   "execution_count": 46,
   "metadata": {},
   "outputs": [
    {
     "name": "stdout",
     "output_type": "stream",
     "text": [
      "[0.08227251 0.79784524 0.85255174 0.37818881 0.39790643]\n",
      "Usamos '[:]' [0.08227251 0.79784524 0.85255174 0.37818881 0.39790643]\n",
      "Usamos '[1:3]': [0.79784524 0.85255174]\n",
      "Usamos '[2:-1]': [0.85255174 0.37818881]\n",
      "Usamos '[2:-2]': [0.85255174]\n"
     ]
    }
   ],
   "source": [
    "a = np.random.rand(5)\n",
    "print(a)\n",
    "\n",
    "# Usar ':' implica o conxunto enteiro no rango dos índices, é dicir, desde 0 ata (lonxitude-1)\n",
    "b = a[:]\n",
    "print(\"Usamos '[:]' {}\".format(b))\n",
    "\n",
    "# Usar '1:3' implica os índices 1 -> 3 (sen incluír a 3)\n",
    "b = a[1:3]\n",
    "print(\"Usamos '[1:3]': {}\".format(b))\n",
    "\n",
    "# Usar '2:-1' implica os índices 2 -> o primeiro desde o final (sen incluílo)\n",
    "b = a[2:-1]\n",
    "print(\"Usamos '[2:-1]': {}\".format(b))\n",
    "\n",
    "# Usar '2:-2' implica os índices 2 -> o segundo desde o final (sen incluílo)\n",
    "b = a[2:-2]\n",
    "print(\"Usamos '[2:-2]': {}\".format(b))"
   ]
  },
  {
   "cell_type": "markdown",
   "metadata": {},
   "source": [
    "> **NOTA**: O uso do índice `-1` corresponde ao último elemento do vector. Do mesmo xeito, o índice `-2` corresponde ao penúltimo elemento, etc.. Este convenio de facer referencia a índices desde o final dun vector é moi útil, xa que co uso destes índices negativos pódese facer referencia aos últimos coeficientes dun vector sen ter que facer referencia explícita ao seu tamaño (ou, incluso, sen coñecelo explicitamente)."
   ]
  },
  {
   "cell_type": "code",
   "execution_count": 47,
   "metadata": {},
   "outputs": [
    {
     "name": "stdout",
     "output_type": "stream",
     "text": [
      "Usamos '[:3]': [0.08227251 0.79784524 0.85255174]\n",
      "Usamos '[4:]': [0.39790643]\n",
      "Usamos '[:]': [0.08227251 0.79784524 0.85255174 0.37818881 0.39790643]\n"
     ]
    }
   ],
   "source": [
    "# Usar ':3' implica usar índices desde o principio ata 3 (sen incluír o índice 3)\n",
    "b = a[:3]\n",
    "print(\"Usamos '[:3]': {}\".format(b))\n",
    "\n",
    "# Usar '4:' implica os índices desde 4 -> ata o final\n",
    "b = a[4:]\n",
    "print(\"Usamos '[4:]': {}\".format(b))\n",
    "\n",
    "# Usar ':' implica tódolos índices desde o primeiro ao último\n",
    "b = a[:]\n",
    "print(\"Usamos '[:]': {}\".format(b))"
   ]
  },
  {
   "cell_type": "markdown",
   "metadata": {},
   "source": [
    "### Submatrices\n",
    "O que acabamos de utilizar para os vectores podémolo facer con matrices."
   ]
  },
  {
   "cell_type": "code",
   "execution_count": 48,
   "metadata": {},
   "outputs": [
    {
     "name": "stdout",
     "output_type": "stream",
     "text": [
      "[[1.3 0. ]\n",
      " [0.  2. ]]\n",
      "[0. 2.]\n",
      "[1.3 0. ]\n"
     ]
    }
   ],
   "source": [
    "B = np.array([[1.3, 0], [0, 2.0]])\n",
    "print(B)\n",
    "\n",
    "# Extraer a segunda fila\n",
    "row = B[1, :]\n",
    "print(row)\n",
    "\n",
    "# Extraer a primeira columna (almacenada nun vector fila)\n",
    "col = B[:, 0] \n",
    "print(col)"
   ]
  },
  {
   "cell_type": "markdown",
   "metadata": {},
   "source": [
    "### Exercicio\n",
    "Podes seguir practicando como extraer distintos elementos de vectores e matrices na seguinte liña de código."
   ]
  },
  {
   "cell_type": "code",
   "execution_count": null,
   "metadata": {},
   "outputs": [],
   "source": []
  },
  {
   "cell_type": "markdown",
   "metadata": {},
   "source": [
    "# Gráficas con Matplotlib\n",
    "**Matplotlib** é unha biblioteca de Python que se pode utilizar fóra dos Notebooks Jupyter para representar graficamente tanto funcións como entidades xeométricas (xa sexa na pantalla ou para gardalas nun ficheiro). Para que as representacións gráficas aparezan incrustadas neste documento, usaremos o comando máxico `%matplotlib inline`. Polo contrario, se é necesario interactuar coas gráficas, deberiamos usar a opción `%matplotlib notebook`."
   ]
  },
  {
   "cell_type": "code",
   "execution_count": 49,
   "metadata": {},
   "outputs": [],
   "source": [
    "%matplotlib inline"
   ]
  },
  {
   "cell_type": "markdown",
   "metadata": {},
   "source": [
    "## Gráficas de funcións dunha variable\n",
    "\n",
    "As gráficas de funcións dunha variable créanse a partir da avaliación do valor da función nun gran número de puntos almacenados nun vector **NumPy**. Ao usar un número de puntos suficiente, créase un efecto cinematográfico, e a gráfica da función parecerá suave. Sen embargo, é importante entender que o que se está representando graficamente é unha concatenación de segmentos rectos que unen os puntos avaliados. Para representar\n",
    "$$\n",
    "f(x) = \\sin(x),\\qquad g(x)=\\cos(x),\\qquad x\\in[0,4\\pi],\n",
    "$$\n",
    "debemos crear un vector de valores nos que se vai avaliar a función:"
   ]
  },
  {
   "cell_type": "code",
   "execution_count": 50,
   "metadata": {},
   "outputs": [
    {
     "data": {
      "image/png": "[encoded data removed]",
      "text/plain": [
       "<Figure size 432x288 with 1 Axes>"
      ]
     },
     "metadata": {
      "needs_background": "light"
     },
     "output_type": "display_data"
    }
   ],
   "source": [
    "# Creación dos puntos onde se avalía a función\n",
    "x = np.linspace(0, 4*np.pi, 100)\n",
    "\n",
    "# Gráfica de sin(x) e cos(x), cunha etiqueta para cada unha\n",
    "plt.plot(x, np.sin(x), label='sen(x)')\n",
    "plt.plot(x, np.cos(x), label='cos(x)')\n",
    "\n",
    "# Etiquetas dos eixos\n",
    "plt.xlabel('x')\n",
    "plt.ylabel('y')\n",
    "\n",
    "# Engadir a lenda (mostrando as etiquetas dos \"plot\")\n",
    "plt.legend()\n",
    "\n",
    "# Definir os límites dos eixos x e y\n",
    "plt.xlim(x[0], x[-1])\n",
    "plt.ylim([-1.,1.])\n",
    "\n",
    "plt.show()"
   ]
  },
  {
   "cell_type": "markdown",
   "metadata": {},
   "source": [
    "Para representar gráficos de funcións con Matplotlib hai múltiples opcións, que podes ver aquí: https://matplotlib.org/stable/api/_as_gen/matplotlib.pyplot.plot.html."
   ]
  },
  {
   "cell_type": "markdown",
   "metadata": {},
   "source": [
    "### Exercicio\n",
    "Na seguinte liña de código podes experimentar a realizar outros gráficos máis complexos."
   ]
  },
  {
   "cell_type": "code",
   "execution_count": null,
   "metadata": {},
   "outputs": [],
   "source": []
  }
 ],
 "metadata": {
  "kernelspec": {
   "display_name": "Python 3",
   "language": "python",
   "name": "python3"
  },
  "language_info": {
   "codemirror_mode": {
    "name": "ipython",
    "version": 3
   },
   "file_extension": ".py",
   "mimetype": "text/x-python",
   "name": "python",
   "nbconvert_exporter": "python",
   "pygments_lexer": "ipython3",
   "version": "3.8.5"
  },
  "vscode": {
   "interpreter": {
    "hash": "4253bf17849ddc6b6e8c6b6b1c64951bcfcb143729dea15b0d22aeda669b2aa2"
   }
  }
 },
 "nbformat": 4,
 "nbformat_minor": 2
}
