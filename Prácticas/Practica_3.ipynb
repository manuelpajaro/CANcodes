{
 "cells": [
  {
   "cell_type": "markdown",
   "metadata": {},
   "source": [
    "<center> <h1>Cálculo e Análise Numérico.    &nbsp;&nbsp;&nbsp;&nbsp;     Grao en Intelixencia Artificial (Uvigo) \n",
    "    <br />\n",
    "    Práctica 3 &nbsp;&nbsp;&nbsp;&nbsp;  (21, 25 e 26 de novembro de 2024)<center> <h1>"
   ]
  },
  {
   "cell_type": "markdown",
   "metadata": {},
   "source": [
    "# 4 Integración Numérica. (Tema 3)\n",
    "\n",
    "<div style=\"text-align: justify\"> \n",
    "Neste tema imos ver algúns métodos numéricos (<b>fórmulas de integración numérica </b>) que nos van permitir aproximar o valor da integral de funcións que non teñen primitiva como combinación de funcións elementais, por exemplo $f(x)=e^{x^2}$. Ou para poder integrar funcións que veñen dadas por un conxunto de datos.  \n",
    "\n",
    "Unha fórmula de integración numérica (ou de cuadratura) é unha suma da forma: \n",
    "$$ \\sum_{i=0}^{n}w_i f(x_i) \\approx \\int_{a}^{b}f(x)\\, \\mathrm{d} x,$$ \n",
    "onde os puntos $x_0, x_1, \\dots, x_n$ son os nodos e $w_0, w_1, \\dots, w_n$ son os pesos asociados a cada nodo. \n",
    "\n",
    "Empezaremos vendo as fórmulas simples (que usamos para aproximar directamente a integral nun intervalo $[a,b]$) e finalizaremos coas fórmulas compostas (o intervalo de integración $[a,b]$ é dividido en subintervalos). Cargamos xa os módulos de <b>Python</b> que usaremos nesta práctica.\n",
    "</div>\n"
   ]
  },
  {
   "cell_type": "code",
   "execution_count": 2,
   "metadata": {},
   "outputs": [],
   "source": [
    "import numpy as np\n",
    "import sympy as sp"
   ]
  },
  {
   "cell_type": "markdown",
   "metadata": {},
   "source": [
    "Ademais, tamén imos ver como se pode calcular unha integral en **Python** usando a función `integrate` do módulo **Sympy**.\n",
    "Sexa $f(x)=\\arctan(x)$, sabemos que $\\displaystyle\\int f(x)\\, \\mathrm{d}x = x\\arctan(x)-\\dfrac{\\ln(x^2+1)}{2}$\n",
    "e que $\\displaystyle\\int_{0}^{1}f(x)\\, \\mathrm{d}x = \\dfrac{\\pi}{4}-\\dfrac{\\ln(2)}{2}$. "
   ]
  },
  {
   "cell_type": "code",
   "execution_count": 3,
   "metadata": {},
   "outputs": [
    {
     "name": "stdout",
     "output_type": "stream",
     "text": [
      "Unha primitiva de  atan(x)  é:\n"
     ]
    },
    {
     "data": {
      "text/latex": [
       "$\\displaystyle x \\operatorname{atan}{\\left(x \\right)} - \\frac{\\log{\\left(x^{2} + 1 \\right)}}{2}$"
      ],
      "text/plain": [
       "x*atan(x) - log(x**2 + 1)/2"
      ]
     },
     "metadata": {},
     "output_type": "display_data"
    },
    {
     "name": "stdout",
     "output_type": "stream",
     "text": [
      "A integral de  atan(x)  entre 0 e 1 é: \n"
     ]
    },
    {
     "data": {
      "text/latex": [
       "$\\displaystyle - \\frac{\\log{\\left(2 \\right)}}{2} + \\frac{\\pi}{4}$"
      ],
      "text/plain": [
       "-log(2)/2 + pi/4"
      ]
     },
     "metadata": {},
     "output_type": "display_data"
    }
   ],
   "source": [
    "x = sp.symbols('x')\n",
    "f = sp.atan(x)\n",
    "I = sp.integrate(f,x) # Integral indefinida\n",
    "\n",
    "print('Unha primitiva de ',f, ' é:')\n",
    "display(I)\n",
    "\n",
    "Idef = sp.integrate(f,(x,0,1)) # Integral definida\n",
    "\n",
    "print('A integral de ',f, ' entre 0 e 1 é: ')\n",
    "display(Idef)"
   ]
  },
  {
   "cell_type": "markdown",
   "metadata": {},
   "source": [
    "**Nota:** No caso de que `SymPy` non sexa capaz de calcular unha primitiva devolve como saída a integral de partida:"
   ]
  },
  {
   "cell_type": "code",
   "execution_count": 4,
   "metadata": {},
   "outputs": [
    {
     "data": {
      "text/latex": [
       "$\\displaystyle \\int \\sin{\\left(x \\cos{\\left(x \\right)} \\right)}\\, dx$"
      ],
      "text/plain": [
       "Integral(sin(x*cos(x)), x)"
      ]
     },
     "metadata": {},
     "output_type": "display_data"
    }
   ],
   "source": [
    "I = sp.integrate(sp.sin(x*sp.cos(x)),x)\n",
    "display(I)"
   ]
  },
  {
   "cell_type": "markdown",
   "metadata": {},
   "source": [
    "Tamén poderíamos calcular integrais impropias. Vexamos por exemplo $\\displaystyle \\int_{0}^{\\infty} \\dfrac{2}{\\sqrt{x}(x+4)}\\, \\mathrm{d}x$ e $\\displaystyle\\int_{-1}^{1} \\dfrac{1}{x^3}\\, \\mathrm{d}x$."
   ]
  },
  {
   "cell_type": "code",
   "execution_count": 5,
   "metadata": {},
   "outputs": [
    {
     "data": {
      "text/latex": [
       "$\\displaystyle A \\ integral \\ entre \\ 0 \\ e \\ +\\infty \\ de \\ \\frac{2}{\\sqrt{x} \\left(x + 4\\right)} \\ é: \\ \\pi$"
      ],
      "text/plain": [
       "<IPython.core.display.Math object>"
      ]
     },
     "metadata": {},
     "output_type": "display_data"
    },
    {
     "data": {
      "text/latex": [
       "$\\displaystyle A \\ integral \\ entre \\ -1 \\ e \\ 1 \\ de \\ \\frac{1}{x^{3}} \\ é: \\ \\text{NaN}$"
      ],
      "text/plain": [
       "<IPython.core.display.Math object>"
      ]
     },
     "metadata": {},
     "output_type": "display_data"
    },
    {
     "data": {
      "text/latex": [
       "$\\displaystyle A \\ integral \\ entre \\ -1 \\ e \\ 0 \\ de \\ \\frac{1}{x^{3}} \\ é: \\ -\\infty$"
      ],
      "text/plain": [
       "<IPython.core.display.Math object>"
      ]
     },
     "metadata": {},
     "output_type": "display_data"
    },
    {
     "data": {
      "text/latex": [
       "$\\displaystyle A \\ integral \\ entre \\ -0 \\ e \\ 1 \\ de \\ \\frac{1}{x^{3}} \\ é: \\ \\infty$"
      ],
      "text/plain": [
       "<IPython.core.display.Math object>"
      ]
     },
     "metadata": {},
     "output_type": "display_data"
    },
    {
     "data": {
      "text/latex": [
       "$\\displaystyle A \\ integral \\ entre \\ -1 \\ e \\ 1 \\ de \\ \\frac{1}{x^{3}} \\ é: \\ \\text{NaN}$"
      ],
      "text/plain": [
       "<IPython.core.display.Math object>"
      ]
     },
     "metadata": {},
     "output_type": "display_data"
    }
   ],
   "source": [
    "f = 2/(sp.sqrt(x)*(x+4))\n",
    "I1 = sp.integrate(f,(x,0,sp.oo))\n",
    "\n",
    "# Unha forma de combinar texto e variables con display\n",
    "from IPython.display import Math\n",
    "display(Math(f'A \\ integral \\ entre \\ 0 \\ e \\ +{sp.latex(sp.oo)} \\ de \\ {sp.latex(f)} \\ é: \\ {sp.latex(I1)}'))\n",
    "\n",
    "g = 1/x**3\n",
    "I2 = sp.integrate(g,(x,-1,1))\n",
    "display(Math(f'A \\ integral \\ entre \\ -1 \\ e \\ 1 \\ de \\ {sp.latex(g)} \\ é: \\ {sp.latex(I2)}'))\n",
    "\n",
    "# Vexamos a anterior integral descomposta en dúas de segunda especie:\n",
    "a,b = sp.symbols('a:b', real=True)\n",
    "I21 = sp.limit(sp.integrate(g,(x,-1,b)),b,0,'-')\n",
    "I22 = sp.limit(sp.integrate(g,(x,a,1)),a,0,'+')\n",
    "display(Math(f'A \\ integral \\ entre \\ -1 \\ e \\ 0 \\ de \\ {sp.latex(g)} \\ é: \\ {sp.latex(I21)}'))\n",
    "display(Math(f'A \\ integral \\ entre \\ -0 \\ e \\ 1 \\ de \\ {sp.latex(g)} \\ é: \\ {sp.latex(I22)}'))\n",
    "display(Math(f'A \\ integral \\ entre \\ -1 \\ e \\ 1 \\ de \\ {sp.latex(g)} \\ é: \\ {sp.latex(I21+I22)}'))"
   ]
  },
  {
   "cell_type": "markdown",
   "metadata": {},
   "source": [
    "**Observación:** O valor `NaN` obtido, significa \"not a number\" que é usado na maioría de linguaxes de programación para indicar que hai unha indeterminación."
   ]
  },
  {
   "cell_type": "markdown",
   "metadata": {},
   "source": [
    "## Fórmulas simples\n",
    "Veremos as fórmulas do rectángulo (dereita, esquerda e punto medio), do trapecio e de Simpson.\n",
    "\n",
    "### Fórmula do rectángulo\n",
    "Esta é a fórmula máis sinxela de todas, xa que só necesitamos coñecer o valor da función nun punto. A fórmula xeral do rectángulo vén dada por:\n",
    "$$ \\int_{a}^{b}f(x)\\, \\mathrm{d} x \\approx \\left(b-a\\right)f(c), \\quad c\\in[a,b].$$\n",
    "\n",
    "Casos particulares:\n",
    "* **Rectángulo esquerda** se $c=a$.\n",
    "* **Rectángulo dereita** se $c=b$.\n",
    "* **Punto medio** (ou Poncelet) se $c=\\dfrac{b+a}{2}$\n",
    "\n",
    "Vexamos como utilizamos este método para aproximar a integral definida dunha función, $\\displaystyle\\int_{0}^{1}\\arctan(x)\\, \\mathrm{d}x$."
   ]
  },
  {
   "cell_type": "code",
   "execution_count": 7,
   "metadata": {},
   "outputs": [
    {
     "name": "stdout",
     "output_type": "stream",
     "text": [
      "O valor exacto é: 0.43882457311747564 \n",
      "Mentres que o aproximado usando a fórmula do punto medio é 0.4636476090008061\n",
      "\n",
      "O erro cometido é: 0.024823035883330458\n"
     ]
    }
   ],
   "source": [
    "x = sp.Symbol('x', real = True)\n",
    "f_exp = sp.atan(x)\n",
    "f = sp.lambdify(x,f_exp)\n",
    "\n",
    "# Usamos a fórmula do punto medio para aproximar a integral da arcotanxente entre 0 e 1 (xa calculada anteriormente)\n",
    "a = 0\n",
    "b = 1\n",
    "PtoM = (a+b)/2\n",
    "\n",
    "I01_atan = sp.integrate(f_exp,(x,a,b)) # Integral definida\n",
    "\n",
    "# Avaliamos a función no punto medio\n",
    "fPtoM  = f(PtoM)\n",
    "I_PtoM  = (b-a)*fPtoM \n",
    "print('O valor exacto é:',float(I01_atan),'\\nMentres que o aproximado usando a fórmula do punto medio é', I_PtoM)\n",
    "print('\\nO erro cometido é:', np.abs(float(I01_atan)-I_PtoM))"
   ]
  },
  {
   "cell_type": "markdown",
   "metadata": {},
   "source": [
    "#### Exercicio:\n",
    "Calcula a anterior integral usando os métodos do rectángulo esquerda e dereita."
   ]
  },
  {
   "cell_type": "code",
   "execution_count": null,
   "metadata": {},
   "outputs": [],
   "source": []
  },
  {
   "cell_type": "markdown",
   "metadata": {},
   "source": [
    "### Fórmula do trapecio\n",
    "Para construír a fórmula do trapecio precisamos o valor da función en dous puntos (os extremos do intervalo). Obtense a partir do polinomio de Lagrange de grao 1 para os puntos $(a,f(a))$ e $(b,f(b))$. Vexamos como se obtén:\n",
    "* Construímos o polinomio de Lagrange para os nodos $x_0=a$ e $x_1=b$:\n",
    "$$P_L(x)=f(x_0)l_0(x)+f(x_1)l_1(x), \\quad l_0(x)=\\dfrac{x-x_1}{x_0-x_1} \\ \\text{ e } \\ l_1(x)=\\dfrac{x-x_0}{x_1-x_0},$$\n",
    "que substituíndo $x_i$ polos seus valores obtemos:\n",
    "$$P_L(x)=f(a)\\dfrac{x-b}{a-b}+f(b)\\dfrac{x-a}{b-a}=\\dfrac{1}{b-a}\\left(f(b)(x-a)-f(a)(x-b)\\right).$$\n",
    "* Calculamos a integral do polinomio de Lagrange de orde 1 no intervalo $[a,b]$:\n",
    "$$\\int_{a}^{b}P_L(x)\\, \\mathrm{d}x = \\dfrac{f(b)}{b-a}\\int_{a}^{b}(x-a)\\, \\mathrm{d}x -\\dfrac{f(a)}{b-a}\\int_{a}^{b}(x-b)\\, \\mathrm{d}x = \\dfrac{b-a}{2}\\left(f(a)+f(b)\\right).$$\n",
    "\n",
    "Polo tanto a fórmula do trapecio vén dada por:\n",
    "$$ \\int_{a}^{b}f(x)\\, \\mathrm{d} x \\approx \\dfrac{b-a}{2}\\left(f(a)+f(b)\\right).$$\n",
    "\n",
    "Programemos este método en **Python**:"
   ]
  },
  {
   "cell_type": "code",
   "execution_count": 6,
   "metadata": {},
   "outputs": [
    {
     "name": "stdout",
     "output_type": "stream",
     "text": [
      "O valor exacto é: 0.43882457311747564 \n",
      "Mentres que o aproximado usando a fórmula do trapecio é 0.39269908169872414\n",
      "\n",
      "O erro cometido é: 0.046125491418751496\n"
     ]
    }
   ],
   "source": [
    "def trapecio(a,b,fa,fb):\n",
    "    aprox_tr = (b-a) * (fa + fb)/2\n",
    "    return aprox_tr\n",
    "\n",
    "# Resolvemos a mesma integral que co punto medio\n",
    "a = 0\n",
    "b = 1\n",
    "fa  = f(a)\n",
    "fb  = f(b)\n",
    "I_Trap  =  trapecio(a,b,fa,fb)\n",
    "print('O valor exacto é:',float(I01_atan),'\\nMentres que o aproximado usando a fórmula do trapecio é', I_Trap)\n",
    "print('\\nO erro cometido é:', np.abs(float(I01_atan)-I_Trap))"
   ]
  },
  {
   "cell_type": "markdown",
   "metadata": {},
   "source": [
    "### Fórmula de Simpson: \n",
    "Para construír a fórmula de Simpson precisamos o valor da función en tres nodos (os extremos do intervalo e o punto medio). Obteríase polo mesmo procedemento que a fórmula do trapecio só que neste caso utilizaríamos o polinomio de grao dous para interpolar os nodos $x_0=a$, $x_1=\\dfrac{b+a}{2}$ e $x_2=b$. A fórmula de Simpson vén dada pola seguinte expresión:\n",
    "$$ \\int_{a}^{b}f(x)\\, \\mathrm{d} x \\approx \\dfrac{b-a}{6}\\left(f(a)+4f\\left(\\frac{b+a}{2}\\right)+f(b)\\right).$$\n",
    "Queda a comprobación como exercicio (totalmente voluntario), para o cal debemos ter en conta que $(b-a)^3=b^3-3b^2a+3ba^2-a^3$.\n",
    "\n",
    "#### Exercicio:\n",
    "Programa unha función en **Python** para aproximar a integral dunha función usando o método de Simpson. Úsaa para aproximar a mesma integral que cos anteriores métodos."
   ]
  },
  {
   "cell_type": "code",
   "execution_count": null,
   "metadata": {},
   "outputs": [],
   "source": []
  },
  {
   "cell_type": "markdown",
   "metadata": {},
   "source": [
    "## Fórmulas compostas\n",
    "As fórmulas compostas constrúense a partir das simples. Para isto debemos dividir o intervalo de integración $[a,b]$ en subintervalos $[x_{i-1},x_{i}]$ e aproximar a integral de cada subintervalo usando a fórmula simple que desexemos. Imos supoñer que a lonxitude de cada subintervalo é constante e denotámola por $h=\\dfrac{b-a}{n}$. Deste xeito, temos un conxunto de $n+1$ nodos $x_0, x_1,\\dots,x_n$ con $x_0=a$, $x_n=b$ e $x_i=a+ih$,  $i=0,\\dots,n$. Veremos as fórmulas do punto medio composta, do trapecio composta e de Simpson composta, para as que imos considerar o caso máis restritivo onde os valores da función veñen dados por datos e non podemos obter o valor en máis puntos que os dados inicialmente. \n",
    "\n",
    "### Fórmula do punto medio composta\n",
    "Para utilizar a fórmula do punto medio simple precisamos coñecer o valor no punto medio do intervalo no que imos aproximar a integral. Polo tanto, temos que utilizar 2 subintervalos de lonxitude $h$  para construír un intervalo de lonxitude $2h$, $[x_{i-1},x_{i+1}]$, con 3 nodos $x_{i-1}, x_{i},x_{i+1}$ no cal poidamos avaliar a función no punto medio $f(x_i)$. Para utilizar esta fórmula precisaremos que o número de subintervalos, $n$ sexa par. Tendo isto en conta, podemos construír a seguinte aproximación da integral: \n",
    "\\begin{eqnarray*}\n",
    "    \\int_{a}^{b}f(x)\\, \\mathrm{d} x = \\sum_{i=1}^{\\frac{n}{2}} \\int_{x_{2i-2}}^{x_{2i}}f(x)\\, \\mathrm{d} x &\\approx& \\sum_{i=1}^{\\frac{n}{2}} \\left(x_{2i}-x_{2i-2}\\right) f\\left(x_{2i-1}\\right) \\\\\n",
    "    &=& 2h \\sum_{i=1}^{\\frac{n}{2}}f(x_{2i-1}).\n",
    "    \\end{eqnarray*}\n",
    "Vexamos como se programa este método en **Python**. Utilizarémolo para aproximar a mesma integral que coas fórmulas simples.\n"
   ]
  },
  {
   "cell_type": "code",
   "execution_count": 7,
   "metadata": {},
   "outputs": [
    {
     "name": "stdout",
     "output_type": "stream",
     "text": [
      "O valor exacto é: 0.43882457311747564 \n",
      "Mentres que o aproximado usando a fórmula do punto medio composto é 0.43883290693697546\n",
      "\n",
      "O erro cometido é: 8.333819499828365e-06\n"
     ]
    }
   ],
   "source": [
    "# Seguimos utilizando o mesmo exemplo que para as fórmulas simples\n",
    "x = sp.Symbol('x', real = True)\n",
    "f_exp = sp.atan(x)\n",
    "f = sp.lambdify(x,f_exp)\n",
    "a = 0\n",
    "b = 1\n",
    "\n",
    "# Imos considerar 100 subintervalos (un número par)\n",
    "n = 100\n",
    "h = (b-a)/n # Lonxitude de cada subintervalo\n",
    "xi = np.linspace(a,b,n+1) # Construímos os n+1 nodos\n",
    "yi = f(xi) # Obtemos o valor da función nos n+1 nodos\n",
    "\n",
    "def PtoMcomposto(y,h):\n",
    "    n = len(y) - 1\n",
    "    I_PMC = 2*h*np.sum(y[1:n:2])\n",
    "    return I_PMC\n",
    "\n",
    "I_PMC = PtoMcomposto(yi,h)\n",
    "print('O valor exacto é:',float(I01_atan),'\\nMentres que o aproximado usando a fórmula do punto medio composto é', I_PMC)\n",
    "print('\\nO erro cometido é:', np.abs(float(I01_atan)-I_PMC))"
   ]
  },
  {
   "cell_type": "markdown",
   "metadata": {},
   "source": [
    "**Observación:** No caso de ter datos dunha función en nodos que non están equiespaciados tamén podemos aproximar a integral usando por exemplo a fórmula do rectángulo esquerda ou dereita composta. Consideramos para cada intervalo a súa lonxitude $h_i =x_{i}-x_{i-1}$ e obtemos: \n",
    "$$\\int_{a}^{b}f(x)\\, \\mathrm{d} x = \\sum_{i=1}^{n} \\int_{x_{i-1}}^{x_{i}}f(x)\\, \\mathrm{d} x \\approx \\sum_{i=1}^{n} \\left(x_{i}-x_{i-1}\\right) f\\left(c_i\\right)= \\sum_{i=1}^{k}h_i f(c_i),$$\n",
    "onde $c_i=x_{i-1}$ ou $c_i=x_{i}$ se consideramos rectángulo esquerda ou dereita, respectivamente. Vexamos a programación en **Python** do método do rectángulo esquerda composto. Imos utilizalo para aproximar a integral da seguinte función que ven dada por:\n",
    "\n",
    "|  $x_i$  | -1 | 0|0.5| 1|3|\n",
    "|--------------|:------:|:-----:|:-----:|:-----:|:-----:|\n",
    "|$f(x_i)$| 3 |    2.4    | 2.8|  3.2 |   1.7 |\n"
   ]
  },
  {
   "cell_type": "code",
   "execution_count": 22,
   "metadata": {},
   "outputs": [
    {
     "name": "stdout",
     "output_type": "stream",
     "text": [
      "O valor da integral usando a fórmula do rectángulo esquerda composta é 12.0\n"
     ]
    }
   ],
   "source": [
    "nodos = np.array([-1,0,0.5,1,3])\n",
    "f_nodos = np.array([3,2.4,2.8,3.2,1.7])\n",
    "\n",
    "def RE_composto(x,y):\n",
    "    n = len(x) - 1  \n",
    "    hi = x[1:n+1]-x[0:n]\n",
    "    I_REC = np.sum(np.multiply(hi,y[0:n]))\n",
    "    return I_REC\n",
    "\n",
    "I_REC = RE_composto(nodos,f_nodos) \n",
    "print('O valor da integral usando a fórmula do rectángulo esquerda composta é', I_REC)"
   ]
  },
  {
   "cell_type": "markdown",
   "metadata": {},
   "source": [
    "#### Exercicio:\n",
    "Programa a fórmula do rectángulo dereita composta e obtén a integral da función dada na anterior táboa."
   ]
  },
  {
   "cell_type": "code",
   "execution_count": null,
   "metadata": {},
   "outputs": [],
   "source": []
  },
  {
   "cell_type": "markdown",
   "metadata": {},
   "source": [
    "### Fórmula do trapecio composta\n",
    "Neste caso non precisamos que o número de subintervalos sexa par, posto que se utilizan os valores nos extremos. Polo tanto, considerando que tódolos intervalos teñen a mesma lonxitude $h$ e aplicando a fórmula do trapecio a cada un, obtemos:\n",
    " \\begin{eqnarray*}\n",
    "    \\int_a^b f(x)\\, \\mathrm{d} x= \\sum_{i=1}^{n} \\int_{x_{i-1}}^{x_{i}} f(x)\\, \\mathrm{d} x &\\approx& \n",
    "    \\sum_{i=1}^{n} \\dfrac{x_i -x_{i-1}}{2} \\left( f\\left(x_{i-1}\\right) + f\\left(x_{i}\\right) \\right) \\\\\n",
    "    &=& \\dfrac{h}{2} \\left( f(x_{0}) + 2 \\sum_{i=1}^{n-1}f(x_{i}) + f(x_{n}) \\right),\n",
    "    \\end{eqnarray*}\n",
    "que é a fórmula do trapecio composta. Vexamos como a programamos en **Python**:"
   ]
  },
  {
   "cell_type": "code",
   "execution_count": 9,
   "metadata": {},
   "outputs": [
    {
     "name": "stdout",
     "output_type": "stream",
     "text": [
      "O valor exacto é: 0.43882457311747564 \n",
      "Mentres que o aproximado usando a fórmula do trapecio composta é 0.4388204064160859\n",
      "\n",
      "O erro cometido é: 4.166701389751726e-06\n"
     ]
    }
   ],
   "source": [
    "def TrapecioComposto(y,h):\n",
    "    n = len(y) - 1\n",
    "    I_TC = h/2*(y[0]+2*np.sum(y[1:n])+y[n])\n",
    "    return I_TC\n",
    "\n",
    "# Usámolo para aproximar a mesma integral que nos apartados anteriores\n",
    "I_TC = TrapecioComposto(yi,h)\n",
    "print('O valor exacto é:',float(I01_atan),'\\nMentres que o aproximado usando a fórmula do trapecio composta é', I_TC)\n",
    "print('\\nO erro cometido é:', np.abs(float(I01_atan)-I_TC))"
   ]
  },
  {
   "cell_type": "markdown",
   "metadata": {},
   "source": [
    "#### Exercicio:\n",
    "Programa unha función coa que poidamos utilizar o método do trapecio composto para calcular a integral da función dada na seguinte táboa (igual que fixemos co método do rectángulo esquerda composto):\n",
    "\n",
    "|  $x_i$  | -1 | 0|0.5| 1|3|\n",
    "|--------------|:------:|:-----:|:-----:|:-----:|:-----:|\n",
    "|$f(x_i)$| 3 |    2.4    | 2.8|  3.2 |   1.7 |"
   ]
  },
  {
   "cell_type": "code",
   "execution_count": null,
   "metadata": {},
   "outputs": [],
   "source": []
  },
  {
   "cell_type": "markdown",
   "metadata": {},
   "source": [
    "### Fórmula de Simpson composta\n",
    "Para poder utilizar este método precisamos, ao igual que coa fórmula do punto medio composta, ter un número de subintervalos, $n$, par. Isto débese a que precisamos coñecer o valor da función no punto medio do intervalo no que se quere aproximar o valor da integral. Deste xeito igual que para as fórmulas anteriores consideramos subintervalos de lonxitude constante $h$. Collendo dous subintervalos (igual que co punto medio composto) para aproximar a integral usando a fórmula de Simpson obtemos:\n",
    "\n",
    "\\begin{eqnarray*}\n",
    "    \\int_a^b f(x)\\, \\mathrm{d}x = \\sum_{i=1}^{\\frac{n}{2}} \\int_{x_{2i-2}}^{x_{2i}} f(x)\\,  \\mathrm{d}x &\\approx& \\sum_{i=1}^{\\frac{n}{2}} \\dfrac{x_{2i}-x_{2i-2}}{6} \\big(f(x_{2i-2}) + 4f(x_{2i-1}) + f(x_{2i}) \\big) \\\\\n",
    "    &=& \\dfrac{h}{3} \\left( f(x_{0}) + 4\\sum_{i=1}^{\\frac{n}{2}} f(x_{2i-1}) + 2\\sum_{i=1}^{\\frac{n}{2}-1}f(x_{2i}) + f(x_{n}) \\right).\n",
    "\\end{eqnarray*}\n",
    "\n",
    "Vexamos como programamos a fórmula de Simpson composta en **Python**."
   ]
  },
  {
   "cell_type": "code",
   "execution_count": 10,
   "metadata": {},
   "outputs": [
    {
     "name": "stdout",
     "output_type": "stream",
     "text": [
      "O valor exacto é: 0.43882457311747564 \n",
      "Mentres que o aproximado usando a fórmula de Simpson composta é 0.4388245732563824\n",
      "\n",
      "O erro cometido é: 1.3890677497130355e-10\n"
     ]
    }
   ],
   "source": [
    "def SimpsonComposto(y,h):\n",
    "    n = len(y) - 1\n",
    "    I_SC = h/3*(y[0] + 4*np.sum(y[1:n:2]) + 2*np.sum(y[2:n-1:2]) + y[n])\n",
    "    return I_SC\n",
    "\n",
    "# Usámolo para aproximar a mesma integral que nos apartados anteriores\n",
    "I_SC = SimpsonComposto(yi,h)\n",
    "print('O valor exacto é:',float(I01_atan),'\\nMentres que o aproximado usando a fórmula de Simpson composta é', I_SC)\n",
    "print('\\nO erro cometido é:', np.abs(float(I01_atan)-I_SC))"
   ]
  },
  {
   "cell_type": "code",
   "execution_count": null,
   "metadata": {},
   "outputs": [],
   "source": []
  },
  {
   "cell_type": "markdown",
   "metadata": {},
   "source": [
    "#### Exercicio:\n",
    "* Obtén o valor exacto da seguinte integral $\\displaystyle \\int_{0}^{1} \\cos(2x)\\sin(x)\\, \\mathrm{d}x.$\n",
    "* Utiliza os métodos do punto medio, trapecio e Simpson compostos con 10, 100 e 1000 subintervalos ($h=0.1$, $h=0.01$, e $h=0.001$) para aproximar a anterior integral. \n",
    "* Estuda que sucede co erro ao aumentar o número de subintervalos. Cal foi o método co que obtivemos unha mellor aproximación.\n"
   ]
  },
  {
   "cell_type": "code",
   "execution_count": null,
   "metadata": {},
   "outputs": [],
   "source": []
  },
  {
   "cell_type": "markdown",
   "metadata": {},
   "source": [
    "#### Exercicio: \n",
    "En procedementos de diagnóstico médico por imaxe (como, por exemplo, a resonancia magnética), téñense en conta numerosos datos para obter, mediante cálculos computacionais, unha imaxe tridimensional que permita visualizar a parte do corpo que se estuda. O proceso é semellante ao empregado para calcular o volume dun sólido usando áreas de seccións perpendiculares a un eixe. A seguinte táboa indica o valor da área de algunhas seccións dun tumor, tomadas a unha distancia dun milímetro entre cada dúas imaxes: \n",
    "\n",
    "| $x (cm)$    |   0  | 0.1 | 0.2 | 0.3 | 0.4 | 0.5 | 0.6 | 0.7 | 0.8 | 0.9 | 1.0 |\n",
    "|-------------|:----:|:---:|:---:|:---:|:---:|:---:|:---:|:---:|:---:|:---:|:---:|\n",
    "| $A(x)(cm^2)$|   0  | 0.1 | 0.4 | 0.3 | 0.6 | 0.9 | 1.2 | 0.8 | 0.6 | 0.2 | 0.1 |\n",
    "      \n",
    "Estima o volume do tumor usando as fórmulas do punto medio, trapecio e Simpson compostas.     "
   ]
  },
  {
   "cell_type": "code",
   "execution_count": null,
   "metadata": {},
   "outputs": [],
   "source": []
  }
 ],
 "metadata": {
  "kernelspec": {
   "display_name": "Python 3",
   "language": "python",
   "name": "python3"
  },
  "language_info": {
   "codemirror_mode": {
    "name": "ipython",
    "version": 3
   },
   "file_extension": ".py",
   "mimetype": "text/x-python",
   "name": "python",
   "nbconvert_exporter": "python",
   "pygments_lexer": "ipython3",
   "version": "3.8.5"
  },
  "vscode": {
   "interpreter": {
    "hash": "4253bf17849ddc6b6e8c6b6b1c64951bcfcb143729dea15b0d22aeda669b2aa2"
   }
  }
 },
 "nbformat": 4,
 "nbformat_minor": 2
}
