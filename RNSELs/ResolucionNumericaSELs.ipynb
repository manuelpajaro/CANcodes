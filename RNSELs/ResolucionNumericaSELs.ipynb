{
 "cells": [
  {
   "cell_type": "markdown",
   "metadata": {},
   "source": [
    "# Tema 6. Resolución numérica de sistemas lineares.\n",
    "\n",
    "<div style=\"text-align: justify\"> \n",
    "    A resolución numérica de sistemas lineares consiste en atopar o vector solución, $x$, do sistema linear $Ax = b$, que ten asociada unha matriz invertible $A$ e un vector $b$. O sistema linear $Ax = b$ tamén se pode escribir como:\n",
    "$$\n",
    "  \\left\\{\n",
    "\\begin{array}{lcl}\n",
    "   a_{11}x_{1}+a_{12}x_{2}+ \\dots +a_{1n}x_{n} & = & b_1 \\\\\n",
    "   a_{21}x_{1}+a_{22}x_{2}+ \\dots +a_{2n}x_{n} & = & b_2 \\\\\n",
    "   \\vdots  &=& \\vdots \\\\\n",
    "   a_{n1}x_{1}+a_{n2}x_{2}+ \\dots +a_{nn}x_{n} & = & b_n \\\\\n",
    "\\end{array}\n",
    "\\right.  \n",
    "$$\n",
    "</div>\n",
    "\n",
    "## Condicionamento da matriz \n",
    "\n",
    "<div style=\"text-align: justify\"> \n",
    "    En <b>Python</b> podemos calcular o condicionamento dunha matriz $A$ usando a función de <b>Numpy</b>: <pre>linalg.cond(A)</pre> Vexamos un exemplo de sistema linear mal condicionado.\n",
    "    $$\\left( \\begin{array}{llll}\n",
    "     10&7&8&7  \\\\\n",
    "     7&5&6&5\\\\ \n",
    "     8&6&10&9\\\\\n",
    "     7&5&9&10\n",
    "\\end{array}\\right)\n",
    "\\left( \\begin{array}{c}\n",
    "     x_1  \\\\\n",
    "     x_2\\\\ \n",
    "     x_3\\\\\n",
    "     x_4\n",
    "\\end{array}\\right)=\n",
    "\\left( \\begin{array}{c}\n",
    "     32  \\\\\n",
    "     23\\\\ \n",
    "     33\\\\\n",
    "     31\n",
    "\\end{array}\\right)$$\n",
    "    \n",
    "</div>\n"
   ]
  },
  {
   "cell_type": "code",
   "execution_count": 1,
   "metadata": {},
   "outputs": [
    {
     "name": "stdout",
     "output_type": "stream",
     "text": [
      "Solución do sistema inicial: [1. 1. 1. 1.] \n",
      "\n",
      "Solución do sistema inicial: [  9.2 -12.6   4.5  -1.1] \n",
      "\n",
      "Solución do sistema inicial: [-81. 137. -34.  22.] \n",
      "\n"
     ]
    },
    {
     "data": {
      "text/plain": [
       "array([[ 25., -41.,  10.,  -6.],\n",
       "       [-41.,  68., -17.,  10.],\n",
       "       [ 10., -17.,   5.,  -3.],\n",
       "       [ -6.,  10.,  -3.,   2.]])"
      ]
     },
     "metadata": {},
     "output_type": "display_data"
    },
    {
     "name": "stdout",
     "output_type": "stream",
     "text": [
      "O condicionamento da matriz A asociada ao sistema linear é:  2984.0927016757 \n",
      "\n",
      "O erro do primeiro problema perturbado é:  8.198475468037087 \n",
      "mentres que a cota dada usando o condicionamento é: 9.942833687616261 \n",
      "\n",
      "O erro relativo do segundo problema perturbado é:  0.9984414996651639 \n",
      "mentres que a cota dada usando o condicionamento é: 22.741473225797982 \n",
      "\n",
      "Nótese que o erro relativo (á solución do problema) sería: 81.98475468049799\n"
     ]
    }
   ],
   "source": [
    "import numpy as np\n",
    "A = np.array([[10,7,8,7],[7,5,6,5],[8,6,10,9],[7,5,9,10]])\n",
    "b = np.transpose(np.array([32,23,33,31]))\n",
    "Sol = np.linalg.solve(A, b) # Resolvemos o sistema linear Ax=b\n",
    "print('Solución do sistema inicial:',Sol,'\\n')\n",
    "\n",
    "# Sistema perturbado 1 (pequenas modificacións nos datos)\n",
    "db = np.transpose(np.array([0.1,-0.1,0.1,-0.1]))\n",
    "Sol1 = np.linalg.solve(A, b + db)\n",
    "print('Solución do sistema inicial:',Sol1,'\\n')\n",
    "\n",
    "# Sistema perturbado 2 (pequenas modificacións na matriz)\n",
    "dA = np.array([[0,0,0.1,0.2],[0.08,0.04,0,0],[0,-0.02,-0.11,0],[-0.01,-0.01,0,-0.02]])\n",
    "Sol2 = np.linalg.solve(A+dA, b)\n",
    "print('Solución do sistema inicial:',Sol2,'\\n')\n",
    "\n",
    "# A inversa de A é:\n",
    "Ainv = np.linalg.inv(A)\n",
    "display(Ainv)\n",
    "\n",
    "# Vexamos o condicionamento da matriz A.\n",
    "condA = np.linalg.cond(A)\n",
    "print('O condicionamento da matriz A asociada ao sistema linear é: ',condA,'\\n')\n",
    "\n",
    "# Vexamos neste exemplo as cotas do erro relativo dadas nos Teoremas 1 e 2 (moi boa para o sistema perturbado 1, no sentido de que están próximas ao erro real).\n",
    "nA = np.linalg.norm(A,2) # Calculamos a norma 2 pero podemos obter outra norma cambiando o 2 polo valor indicado na axuda para a norma desexada.\n",
    "ndA = np.linalg.norm(dA,2)\n",
    "ndb = np.linalg.norm(db,2)\n",
    "nb = np.linalg.norm(b,2)\n",
    "nSol = np.linalg.norm(Sol,2)\n",
    "nSol2 = np.linalg.norm(Sol2,2)\n",
    "ndSol1 = np.linalg.norm(Sol1-Sol,2)\n",
    "ndSol2 = np.linalg.norm(Sol2-Sol,2)\n",
    "\n",
    "# Sistema perturbado 1 (Teorema 1)\n",
    "Rerro = ndSol1/nSol\n",
    "Cerro = condA*ndb/nb\n",
    "print('O erro do primeiro problema perturbado é: ',Rerro,'\\nmentres que a cota dada usando o condicionamento é:',Cerro,'\\n')\n",
    "\n",
    "# Sistema perturbado 2  (Teorema 2)\n",
    "Rerro2 = ndSol2/nSol2\n",
    "Cerro2 = condA*ndA/nA\n",
    "print('O erro relativo do segundo problema perturbado é: ',Rerro2,'\\nmentres que a cota dada usando o condicionamento é:',Cerro2,'\\n')\n",
    "\n",
    "print('Nótese que o erro relativo (á solución do problema) sería:', ndSol2/nSol)"
   ]
  },
  {
   "cell_type": "markdown",
   "metadata": {},
   "source": [
    "### Exercicio\n",
    "\n",
    "<div style=\"text-align: justify\">\n",
    "Atopa polo menos unha matriz cadrada de orde maior ou igual que 2 que sexa mal condicionada e outra que esté ben condicionada. Comprobao, perturbando un sistema linear que teña asociada esas matrices.\n",
    "</div>"
   ]
  },
  {
   "cell_type": "code",
   "execution_count": null,
   "metadata": {},
   "outputs": [],
   "source": []
  },
  {
   "cell_type": "markdown",
   "metadata": {},
   "source": [
    "## Métodos directos\n",
    "\n",
    "<div style=\"text-align: justify\">\n",
    "Para resolver o sistema linear $Ax=b$, buscan unha matriz invertible $M$ tal que a matriz $MA$ sexa triangular superior e o novo sistema linear $MAx=Mb$ poida resolverse polo método de remonte. \n",
    "    \n",
    "Imos ver distintos métodos directos para resolver o sistema linear $Ax=b$ con:\n",
    "$$  A=\\left(\n",
    "\\begin{array}{llll}\n",
    "  9& 1 & 0 & 0 \\\\\n",
    "  2& 4 & 1 & 0 \\\\\n",
    "  0&2 &5 & 1 \\\\\n",
    "  0&0 &2&3\n",
    "\\end{array}\n",
    "\\right), \\quad\n",
    "  b=\\left(\n",
    "\\begin{array}{c}\n",
    "   1 \\\\\n",
    "   1 \\\\\n",
    "   1 \\\\\n",
    "   1\n",
    "\\end{array}\n",
    "\\right). $$\n",
    "    \n",
    "\n",
    "</div>\n",
    "\n",
    "### Método de Gauss (factorización LU)\n",
    "<div style=\"text-align: justify\">\n",
    "   Para resolver o sistema linear $Ax=b$ buscamos $L$ triangular inferior e $U$ triangular superior tal que $A=LU$. \n",
    "    \n",
    "<b>Teorema (factorización LU dunha matriz)</b>\n",
    "Sexa  $A=(a_{ij})$ matriz cadrada de orde $n$ tal que as $n$ submatrices diagonais\n",
    "$$ A=\\left(\n",
    "\\begin{array}{lll}\n",
    "  a_{11}& \\dots & a_{1k} \\\\\n",
    "  \\vdots & & \\vdots\\\\\n",
    "   a_{k1}& \\dots & a_{kk}\n",
    "\\end{array}\n",
    "\\right), \\quad 1\\leq k \\leq n,$$\n",
    "sexan invertibles. Entón existe unha matriz triangular inferior $L=(l_{ij})$ con $l_{ii}=1, \\ 1\\leq i \\leq n$, e a matriz triangular superior $U$ tal que $A=LU$. Ademais, tal factorización é única.\n",
    "</div>"
   ]
  },
  {
   "cell_type": "code",
   "execution_count": 2,
   "metadata": {},
   "outputs": [
    {
     "name": "stdout",
     "output_type": "stream",
     "text": [
      "A matriz L é: \n",
      " [[1.         0.         0.         0.        ]\n",
      " [0.22222222 1.         0.         0.        ]\n",
      " [0.         0.52941176 1.         0.        ]\n",
      " [0.         0.         0.44736842 1.        ]] \n",
      "e U=\n",
      " [[9.         1.         0.         0.        ]\n",
      " [0.         3.77777778 1.         0.        ]\n",
      " [0.         0.         4.47058824 1.        ]\n",
      " [0.         0.         0.         2.55263158]] \n",
      "\n",
      "A solución do sistema linear é: [0.09020619 0.18814433 0.06701031 0.28865979]\n",
      "Solución do sistema linear:     [0.09020619 0.18814433 0.06701031 0.28865979] \n",
      "\n"
     ]
    }
   ],
   "source": [
    "import scipy as sc\n",
    "from scipy import linalg \n",
    "\n",
    "A = np.array([[9,1,0,0],[2,4,1,0],[0,2,5,1],[0,0,2,3]])\n",
    "b = np.transpose(np.array([1,1,1,1]))\n",
    "\n",
    "# Calculamos a factorización LU da matriz dada\n",
    "lu, piv = sc.linalg.lu_factor(A)\n",
    "L, U = np.tril(lu, k=-1) + np.eye(4), np.triu(lu)\n",
    "print('A matriz L é: \\n', L,'\\ne U=\\n',U, '\\n')\n",
    "# Resolvemos o sistema linear usando a factorización LU\n",
    "x = sc.linalg.lu_solve((lu, piv), b)\n",
    "print('A solución do sistema linear é:', x)\n",
    "# Resolvemos o sistema linear Ax=b con outro método\n",
    "print('Solución do sistema linear:    ',np.linalg.solve(A, b),'\\n')\n"
   ]
  },
  {
   "cell_type": "markdown",
   "metadata": {},
   "source": [
    "### Método de Cholesky\n",
    "<div style=\"text-align: justify\">\n",
    "O método de Cholesky para resolver un sistema linear $Ax=b$ con $A$  simétrica e definida positiva consiste en obter a factorización de Cholesky $A=BB^T$ e despois resolver os sistemas lineais $By = b$ e $B^Tx = y$.\n",
    "\n",
    "<b>Teorema (factorización de Cholesky)</b>\n",
    "Se a matriz $A$ é simétrica e definida positiva, existe polo menos unha matriz real triangular inferior $B$ tal que $A=BB^T$, esta igualdade constitúe unha factorización de Cholesky da matriz $A$. Ademais, podemos impoñer que os elementos da diagonal da matriz $B$ sexan todos maiores que 0, co que a factorización $A=BB^T$ é única.\n",
    "\n",
    "</div>\n"
   ]
  },
  {
   "cell_type": "code",
   "execution_count": 3,
   "metadata": {},
   "outputs": [
    {
     "name": "stdout",
     "output_type": "stream",
     "text": [
      "Son tódolos autovalores de A positivos? [ True  True  True  True]\n",
      "A matriz B é: \n",
      " [[3.         0.         0.         0.        ]\n",
      " [0.66666667 1.88561808 0.         0.        ]\n",
      " [0.         1.06066017 1.96850197 0.        ]\n",
      " [0.         0.         1.01600102 1.40276225]] \n",
      "\n",
      "A solución do sistema linear é: [0.08855292 0.20302376 0.09935205 0.30021598]\n",
      "Solución do sistema linear:     [0.09020619 0.18814433 0.06701031 0.28865979] \n",
      "\n",
      "PARECE QUE NON FUNCIONA CORRECTAMENTE!!! Por que? \n",
      "\n",
      "A matriz B é: \n",
      " [[3.         0.         0.         0.        ]\n",
      " [0.33333333 1.97202659 0.         0.        ]\n",
      " [0.         0.50709255 2.17781017 0.        ]\n",
      " [0.         0.         0.45917684 1.67007683]] \n",
      "\n",
      "A solución do sistema linear é: [0.08855292 0.20302376 0.09935205 0.30021598]\n",
      "Solución do sistema linear:     [0.08855292 0.20302376 0.09935205 0.30021598] \n",
      "\n",
      "PARECE QUE FUNCIONA CORRECTAMENTE!!! Por que? \n",
      "\n"
     ]
    }
   ],
   "source": [
    "# Comprobemos que a matriz A dade é definida positiva\n",
    "autovalores = sc.linalg.eigvals(A)\n",
    "print('Son tódolos autovalores de A positivos?', autovalores > 0)\n",
    "# Como son todos positivos sabemos que A é definida positiva, vexamos cal é a factorización de Cholesky\n",
    "B = sc.linalg.cholesky(A, lower=True)\n",
    "print('A matriz B é: \\n', B,'\\n')\n",
    "# Resolvemos o sistema linear usando a factorización de Cholesky en scipy\n",
    "c, low = sc.linalg.cho_factor(A)\n",
    "x = sc.linalg.cho_solve((c,low),b)\n",
    "print('A solución do sistema linear é:', x)\n",
    "# Resolvemos o sistema linear Ax=b con outro método\n",
    "print('Solución do sistema linear:    ',np.linalg.solve(A, b),'\\n')\n",
    "print('PARECE QUE NON FUNCIONA CORRECTAMENTE!!! Por que? \\n')\n",
    "\n",
    "# Consideresmos unha nova matriz A2:\n",
    "A2 = np.array([[9,1,0,0],[1,4,1,0],[0,1,5,1],[0,0,1,3]])\n",
    "B = sc.linalg.cholesky(A2, lower=True)\n",
    "print('A matriz B é: \\n', B,'\\n')\n",
    "# Resolvemos o sistema linear usando a factorización de Cholesky en scipy\n",
    "c, low = sc.linalg.cho_factor(A2)\n",
    "x = sc.linalg.cho_solve((c,low),b)\n",
    "print('A solución do sistema linear é:', x)\n",
    "# Resolvemos o sistema linear Ax=b con outro método\n",
    "print('Solución do sistema linear:    ',np.linalg.solve(A2, b),'\\n')\n",
    "print('PARECE QUE FUNCIONA CORRECTAMENTE!!! Por que? \\n')\n"
   ]
  },
  {
   "cell_type": "markdown",
   "metadata": {},
   "source": [
    "### Método de Householder, factorización QR\n",
    "<div style=\"text-align: justify\">\n",
    "O  método de Householder para resolver un sistema linear $Ax=b$ equivale a atopar $(n-1)$ matrices de Householder $H_1,H_2, \\dots,H_{n-1}$ tal que a matriz $H_{n-1}\\dots H_2 H_1 A$ sexa triangular superior. Restaría resolver por remonte o sistema linear: $$H_{n-1}\\dots H_2 H_1 A=H_{n-1}\\dots H_2 H_1 b.$$\n",
    "\n",
    "<b>Teorema (factorización QR):</b>\n",
    "Dada unha matriz $A$ de orde $n$, existe unha matriz ortogonal $Q$ e unha matriz triangular superior $R$ tal que $A=QR$. Ademais, podemos conseguir que os elementos da diagonal de $R$ sexan todos maiores ou iguais que 0. Se a matriz $A$ é invertible, a correspondente factorización $A=QR$ é única.\n",
    "\n",
    "Usando o método de Householder $R=H_{n-1}\\dots H_2 H_1 A$ e $Q=(H_{n-1}\\dots H_2 H_1)^{-1}=H_1H_2\\dots H_{n-1}$.\n",
    "\n",
    "</div>\n"
   ]
  },
  {
   "cell_type": "code",
   "execution_count": 4,
   "metadata": {},
   "outputs": [
    {
     "name": "stdout",
     "output_type": "stream",
     "text": [
      "A matriz Q é: \n",
      " [[-0.97618706  0.19069252 -0.09216815 -0.0469065 ]\n",
      " [-0.21693046 -0.85811633  0.41475666  0.21107926]\n",
      " [-0.         -0.47673129 -0.78342924 -0.39870528]\n",
      " [-0.         -0.         -0.4535643   0.89122356]] \n",
      "e R=\n",
      " [[-9.21954446 -1.84390889 -0.21693046  0.        ]\n",
      " [ 0.         -4.19523539 -3.2417728  -0.47673129]\n",
      " [ 0.          0.         -4.40951814 -2.14412213]\n",
      " [ 0.          0.          0.          2.27496539]] \n",
      "\n",
      "A solución do sistema linear é: [0.09020619 0.18814433 0.06701031 0.28865979]\n",
      "Solución do sistema linear:     [0.09020619 0.18814433 0.06701031 0.28865979] \n",
      "\n"
     ]
    }
   ],
   "source": [
    "# Obtemos a factorización QR\n",
    "Q, R = sc.linalg.qr(A)\n",
    "print('A matriz Q é: \\n', Q,'\\ne R=\\n',R, '\\n')\n",
    "# Resolvemos o sistema usando a factorización QR\n",
    "x = np.linalg.solve(R, np.matmul(np.transpose(Q),b))\n",
    "print('A solución do sistema linear é:', x)\n",
    "# Resolvemos o sistema linear Ax=b con outro método\n",
    "print('Solución do sistema linear:    ',np.linalg.solve(A, b),'\\n')\n"
   ]
  },
  {
   "cell_type": "markdown",
   "metadata": {},
   "source": [
    "### Exemplo\n",
    "\n",
    "<div style=\"text-align: justify\">\n",
    "Vexamos como construír matrices que teñen moitos ceros, e só algúnhas diagonais distintas de cero. Así como computar tempos de cáculo dos métodos anteriores encapsulando o código nunha función.\n",
    "</div>"
   ]
  },
  {
   "cell_type": "code",
   "execution_count": 5,
   "metadata": {},
   "outputs": [
    {
     "name": "stdout",
     "output_type": "stream",
     "text": [
      "[[ 4. -3.  2.  0.  0.  0.  0.  0.  0.  0.]\n",
      " [-2.  4. -3.  2.  0.  0.  0.  0.  0.  0.]\n",
      " [ 1. -2.  4. -3.  2.  0.  0.  0.  0.  0.]\n",
      " [ 0.  1. -2.  4. -3.  2.  0.  0.  0.  0.]\n",
      " [ 0.  0.  1. -2.  4. -3.  2.  0.  0.  0.]\n",
      " [ 0.  0.  0.  1. -2.  4. -3.  2.  0.  0.]\n",
      " [ 0.  0.  0.  0.  1. -2.  4. -3.  2.  0.]\n",
      " [ 0.  0.  0.  0.  0.  1. -2.  4. -3.  2.]\n",
      " [ 0.  0.  0.  0.  0.  0.  1. -2.  4. -3.]\n",
      " [ 0.  0.  0.  0.  0.  0.  0.  1. -2.  4.]]\n",
      "Wall time: 0 ns\n",
      "[ 5.00000000e-01  1.00000000e+00  1.00000000e+00  5.00000000e-01\n",
      " -4.43273036e-16  1.48921482e-16  5.00000000e-01  1.00000000e+00\n",
      "  1.00000000e+00  5.00000000e-01]\n"
     ]
    }
   ],
   "source": [
    "# Construímos unha matriz A de orde n=10 pentadiagonal\n",
    "n = 10\n",
    "data = np.array([4*np.ones(n), -2*np.ones(n), np.ones(n),-3*np.ones(n),2*np.ones(n)])\n",
    "diags = np.array([0, -1, -2,1,2])\n",
    "AA = sc.sparse.spdiags(data, diags, n, n).toarray()\n",
    "print(AA)\n",
    "# construimos b\n",
    "bb = np.ones(n) \n",
    "\n",
    "def MetodoGauss(A,b):\n",
    "    lu, piv = sc.linalg.lu_factor(A)\n",
    "    x = sc.linalg.lu_solve((lu, piv), b)\n",
    "    return x\n",
    "\n",
    "# Chamamos ao método e escribimos por pantalla o tempo\n",
    "%time x = MetodoGauss(AA,bb)\n",
    "print(x)\n",
    "    "
   ]
  },
  {
   "cell_type": "markdown",
   "metadata": {},
   "source": [
    "### Exercicio\n",
    "\n",
    "<div style=\"text-align: justify\">\n",
    "Completa o exemplo anterior contruíndo unha función para cada método visto. Utilízaas para comparar os tempos de execución dos anteriores métodos ao resolver o sistema $Ax=b$, tal que $A$ é unha matriz de orde $n=1000$ tridiagonal con 1 na diagonal inferior e superior e 4 na diagonal principal, mentres que $b$ é un vector de 1.\n",
    "</div>"
   ]
  },
  {
   "cell_type": "code",
   "execution_count": null,
   "metadata": {},
   "outputs": [],
   "source": []
  },
  {
   "cell_type": "markdown",
   "metadata": {},
   "source": [
    "## Métodos iterativos.\n",
    "<div style=\"text-align: justify\">\n",
    "<ul>\n",
    "  <li> A solución do problema e o límite dunha sucesión $\\{x_k\\}_{k\\geq0}$ de solucións aproximadas (os cálculos detéñense para algún $k_0$).\n",
    "  <li> Dado o sistema linear $Ax=b$ trátase de buscar unha matriz $B$ e un vector $c$ tal que a matriz $(I-B)$ sexa invertible e que a solución do sistema linear $x=Bx+c$ tamén o sexa do inicial.\n",
    "  <li> Presentan a forma: $x_{k+1} = Bx_k + c, \\ k \\geq 0,$ con $x_0$ sendo un vector arbitrario. Á matriz $B$ chámaselle matriz do método iterativo.\n",
    "    </ul>\n",
    "\n",
    "<b>Teorema</b>\n",
    "Sexa $B$ a matriz dun método iterativo, entón as seguintes proposicións son equivalentes:\n",
    "<ul>\n",
    "  <li> O método iterativo é converxente.\n",
    "  <li> O raio espectral de $B$ é menor que 1, $\\rho(B)<1$.\n",
    "  <li> $||B|| < 1$ para polo menos, unha norma matricial $||\\cdot||$.\n",
    "</ul>\n",
    "\n",
    "Veremos os metodos de Jacobi e Gauss-Seidel para os que a matriz $A$ se descompón como $A=M-N$, onde $M$ é unha matriz invertible. Entón temos: $$Ax=b \\Leftrightarrow Mx = Nx + b \\Leftrightarrow x = M^{-1}Nx + M^{-1}b,$$\n",
    "        que ten a forma $x=Bx+c$ e $B=M^{-1}N=I-M^{-1}A$.   Máis concretamente imos considerar  a descomposición $A=D-L-U$ onde:\n",
    "        $D$ é a diagonal principal de $A$, $d_{ij}=a_{ij}$ se $i=j$ e 0 noutro caso;\n",
    "        $L$ é a parte triangular inferior de $-A$, $l_{ij}=-a_{ij}$ se $i>j$ e 0 noutro caso; \n",
    "        e $U$ é a parte triangular superior de $-A$, $u_{ij}=-a_{ij}$ se $i<j$ e 0 noutro caso. \n",
    "</div>\n",
    "\n",
    "### Método de Jacobi\n",
    "<div style=\"text-align: justify\">\n",
    " Consideramos que $M=D$ polo que $N=L+U$ e a matriz do método de Jacobi é $B=D^{-1}(L+U)$.  Para que $D$ sexa invertible precisamos que $a_{ii} \\neq 0, \\ 1\\leq i\\leq n $. Vexamos unha posible implementación do método de Jacobi.\n",
    "</div>\n"
   ]
  },
  {
   "cell_type": "code",
   "execution_count": 6,
   "metadata": {},
   "outputs": [
    {
     "name": "stdout",
     "output_type": "stream",
     "text": [
      "A solución usando Jacobi en 32  iteracións é: [0.09020619 0.18814433 0.06701031 0.28865979]\n",
      "Solución exacta  do sistema linear é           : [0.09020619 0.18814433 0.06701031 0.28865979] \n",
      "\n"
     ]
    }
   ],
   "source": [
    "def Jacobi(A, b, k_stop, tol=1e-9):\n",
    "    x = np.zeros(np.size(b))  # x0 fixo, aínda que podería ser unha entrada da función\n",
    "    D = np.diag(np.diagonal(A))\n",
    "    N = -A + D\n",
    "    for k in range(k_stop):\n",
    "        x_old  = x\n",
    "        x = np.matmul(np.linalg.inv(D),(b + np.matmul(N, x)))\n",
    "        if np.linalg.norm(x-x_old,2)/np.linalg.norm(x,2) < tol:\n",
    "            break    \n",
    "    return x, k\n",
    "\n",
    "# Resolvemos o exemplo co método de Jacobi\n",
    "k_stop = 100\n",
    "x_jac, k_end = Jacobi(A,b,k_stop) \n",
    "print('A solución usando Jacobi en',k_end,' iteracións é:', x_jac)\n",
    "# Resolvemos o sistema linear Ax=b con outro método\n",
    "print('Solución exacta  do sistema linear é           :',np.linalg.solve(A, b),'\\n')"
   ]
  },
  {
   "cell_type": "markdown",
   "metadata": {},
   "source": [
    "### Método de Gauss-Seidel\n",
    "<div style=\"text-align: justify\">\n",
    "  Consideramos que $M=D-L$ polo que $N=U$ e a matriz do método de Gauss-Seidel é $B=(D-L)^{-1}U$. Para que $D$ sexa invertible precisamos que $a_{ii} \\neq 0, \\ 1\\leq i\\leq n $.\n",
    "</div>\n",
    "\n",
    "### Exercicio\n",
    "<div style=\"text-align: justify\">\n",
    "  <ul>\n",
    "  <li>Implementa unha función para resolver sistemas lineais usando o método de Gauss-Seidel.\n",
    "  <li>Resolve o mesmo sistema que resolvemos cos anteriores métodos.\n",
    "  <li>Razoa porque son converxentes estes métodos iterativos e compróbao numéricamente.\n",
    "  <li>Utiliza estes dous métodos para resolver o sistema do anterior exercicio onde a matriz $A$ é de orde 1000.\n",
    "  </ul>\n",
    "</div>"
   ]
  },
  {
   "cell_type": "code",
   "execution_count": null,
   "metadata": {},
   "outputs": [],
   "source": []
  }
 ],
 "metadata": {
  "kernelspec": {
   "display_name": "Python 3",
   "language": "python",
   "name": "python3"
  },
  "language_info": {
   "codemirror_mode": {
    "name": "ipython",
    "version": 3
   },
   "file_extension": ".py",
   "mimetype": "text/x-python",
   "name": "python",
   "nbconvert_exporter": "python",
   "pygments_lexer": "ipython3",
   "version": "3.8.5"
  },
  "vscode": {
   "interpreter": {
    "hash": "4253bf17849ddc6b6e8c6b6b1c64951bcfcb143729dea15b0d22aeda669b2aa2"
   }
  }
 },
 "nbformat": 4,
 "nbformat_minor": 2
}
